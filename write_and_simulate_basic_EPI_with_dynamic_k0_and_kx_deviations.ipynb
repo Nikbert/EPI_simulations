{
  "cells": [
    {
      "cell_type": "markdown",
      "metadata": {
        "id": "view-in-github",
        "colab_type": "text"
      },
      "source": [
        "<a href=\"https://colab.research.google.com/github/Nikbert/EPI_simulations/blob/main/write_and_simulate_basic_EPI_with_dynamic_k0_and_kx_deviations.ipynb\" target=\"_parent\"><img src=\"https://colab.research.google.com/assets/colab-badge.svg\" alt=\"Open In Colab\"/></a>"
      ]
    },
    {
      "cell_type": "markdown",
      "metadata": {
        "id": "mJe7X9UGeWF1"
      },
      "source": [
        "# Example EPI sequence\n",
        "(adopted from https__://github.com/imr-framework/pypulseq/blob/dev/pypulseq/seq_examples/scripts/write_epi.py with many modifications)\n",
        "\n",
        "For the first-time use select Runtime->Run All (or hit Ctrl+F9) as thie initial setup of the environment takes about a minute."
      ]
    },
    {
      "cell_type": "markdown",
      "metadata": {
        "id": "y-JTbHumqEST"
      },
      "source": [
        "# Initial package set-up\n",
        "This is a necessary step for the Colab environment, and it is only slow on the first run"
      ]
    },
    {
      "cell_type": "code",
      "execution_count": 1,
      "metadata": {
        "colab": {
          "base_uri": "https://localhost:8080/"
        },
        "id": "1MmzSDftfM0Z",
        "outputId": "68c0184d-14b4-400d-ff1f-240816d29e3c"
      },
      "outputs": [
        {
          "output_type": "stream",
          "name": "stdout",
          "text": [
            "Collecting git+https://github.com/imr-framework/pypulseq.git\n",
            "  Cloning https://github.com/imr-framework/pypulseq.git to /tmp/pip-req-build-uq0nij6v\n",
            "  Running command git clone --filter=blob:none --quiet https://github.com/imr-framework/pypulseq.git /tmp/pip-req-build-uq0nij6v\n",
            "  Resolved https://github.com/imr-framework/pypulseq.git to commit 5b51dc8409b3c1e94db6a5ba1d9d55c6307917dd\n",
            "  Installing build dependencies ... \u001b[?25l\u001b[?25hdone\n",
            "  Getting requirements to build wheel ... \u001b[?25l\u001b[?25hdone\n",
            "  Preparing metadata (pyproject.toml) ... \u001b[?25l\u001b[?25hdone\n",
            "Collecting coverage>=6.2 (from pypulseq==1.4.2)\n",
            "  Downloading coverage-7.6.4-cp310-cp310-manylinux_2_5_x86_64.manylinux1_x86_64.manylinux_2_17_x86_64.manylinux2014_x86_64.whl.metadata (8.2 kB)\n",
            "Requirement already satisfied: matplotlib>=3.5.2 in /usr/local/lib/python3.10/dist-packages (from pypulseq==1.4.2) (3.8.0)\n",
            "Requirement already satisfied: numpy>=1.19.5 in /usr/local/lib/python3.10/dist-packages (from pypulseq==1.4.2) (1.26.4)\n",
            "Requirement already satisfied: scipy>=1.8.1 in /usr/local/lib/python3.10/dist-packages (from pypulseq==1.4.2) (1.13.1)\n",
            "Requirement already satisfied: contourpy>=1.0.1 in /usr/local/lib/python3.10/dist-packages (from matplotlib>=3.5.2->pypulseq==1.4.2) (1.3.0)\n",
            "Requirement already satisfied: cycler>=0.10 in /usr/local/lib/python3.10/dist-packages (from matplotlib>=3.5.2->pypulseq==1.4.2) (0.12.1)\n",
            "Requirement already satisfied: fonttools>=4.22.0 in /usr/local/lib/python3.10/dist-packages (from matplotlib>=3.5.2->pypulseq==1.4.2) (4.54.1)\n",
            "Requirement already satisfied: kiwisolver>=1.0.1 in /usr/local/lib/python3.10/dist-packages (from matplotlib>=3.5.2->pypulseq==1.4.2) (1.4.7)\n",
            "Requirement already satisfied: packaging>=20.0 in /usr/local/lib/python3.10/dist-packages (from matplotlib>=3.5.2->pypulseq==1.4.2) (24.2)\n",
            "Requirement already satisfied: pillow>=6.2.0 in /usr/local/lib/python3.10/dist-packages (from matplotlib>=3.5.2->pypulseq==1.4.2) (11.0.0)\n",
            "Requirement already satisfied: pyparsing>=2.3.1 in /usr/local/lib/python3.10/dist-packages (from matplotlib>=3.5.2->pypulseq==1.4.2) (3.2.0)\n",
            "Requirement already satisfied: python-dateutil>=2.7 in /usr/local/lib/python3.10/dist-packages (from matplotlib>=3.5.2->pypulseq==1.4.2) (2.8.2)\n",
            "Requirement already satisfied: six>=1.5 in /usr/local/lib/python3.10/dist-packages (from python-dateutil>=2.7->matplotlib>=3.5.2->pypulseq==1.4.2) (1.16.0)\n",
            "Downloading coverage-7.6.4-cp310-cp310-manylinux_2_5_x86_64.manylinux1_x86_64.manylinux_2_17_x86_64.manylinux2014_x86_64.whl (234 kB)\n",
            "\u001b[2K   \u001b[90m━━━━━━━━━━━━━━━━━━━━━━━━━━━━━━━━━━━━━━━━\u001b[0m \u001b[32m234.6/234.6 kB\u001b[0m \u001b[31m3.6 MB/s\u001b[0m eta \u001b[36m0:00:00\u001b[0m\n",
            "\u001b[?25hBuilding wheels for collected packages: pypulseq\n",
            "  Building wheel for pypulseq (pyproject.toml) ... \u001b[?25l\u001b[?25hdone\n",
            "  Created wheel for pypulseq: filename=pypulseq-1.4.2-py3-none-any.whl size=188478 sha256=98e35010455eb0ccb600f1b4d45730ddf35296860a73400b88300cf51eb45824\n",
            "  Stored in directory: /tmp/pip-ephem-wheel-cache-gf8dsfpx/wheels/b3/3c/2d/4615def3ba2cf9a2c9b356df4563e66a9893931bf1c566339f\n",
            "Successfully built pypulseq\n",
            "Installing collected packages: coverage, pypulseq\n",
            "Successfully installed coverage-7.6.4 pypulseq-1.4.2\n",
            "Collecting sigpy\n",
            "  Downloading sigpy-0.1.26-py3-none-any.whl.metadata (5.1 kB)\n",
            "Requirement already satisfied: numpy in /usr/local/lib/python3.10/dist-packages (from sigpy) (1.26.4)\n",
            "Collecting pywavelets (from sigpy)\n",
            "  Downloading pywavelets-1.7.0-cp310-cp310-manylinux_2_17_x86_64.manylinux2014_x86_64.whl.metadata (9.0 kB)\n",
            "Requirement already satisfied: numba in /usr/local/lib/python3.10/dist-packages (from sigpy) (0.60.0)\n",
            "Requirement already satisfied: scipy in /usr/local/lib/python3.10/dist-packages (from sigpy) (1.13.1)\n",
            "Requirement already satisfied: tqdm in /usr/local/lib/python3.10/dist-packages (from sigpy) (4.66.6)\n",
            "Requirement already satisfied: llvmlite<0.44,>=0.43.0dev0 in /usr/local/lib/python3.10/dist-packages (from numba->sigpy) (0.43.0)\n",
            "Downloading sigpy-0.1.26-py3-none-any.whl (108 kB)\n",
            "\u001b[2K   \u001b[90m━━━━━━━━━━━━━━━━━━━━━━━━━━━━━━━━━━━━━━━━\u001b[0m \u001b[32m108.6/108.6 kB\u001b[0m \u001b[31m2.7 MB/s\u001b[0m eta \u001b[36m0:00:00\u001b[0m\n",
            "\u001b[?25hDownloading pywavelets-1.7.0-cp310-cp310-manylinux_2_17_x86_64.manylinux2014_x86_64.whl (4.5 MB)\n",
            "\u001b[2K   \u001b[90m━━━━━━━━━━━━━━━━━━━━━━━━━━━━━━━━━━━━━━━━\u001b[0m \u001b[32m4.5/4.5 MB\u001b[0m \u001b[31m46.6 MB/s\u001b[0m eta \u001b[36m0:00:00\u001b[0m\n",
            "\u001b[?25hInstalling collected packages: pywavelets, sigpy\n",
            "Successfully installed pywavelets-1.7.0 sigpy-0.1.26\n",
            "  Installing build dependencies ... \u001b[?25l\u001b[?25hdone\n",
            "  Getting requirements to build wheel ... \u001b[?25l\u001b[?25hdone\n",
            "  Preparing metadata (pyproject.toml) ... \u001b[?25l\u001b[?25hdone\n",
            "\u001b[2K   \u001b[90m━━━━━━━━━━━━━━━━━━━━━━━━━━━━━━━━━━━━━━━━\u001b[0m \u001b[32m404.0/404.0 kB\u001b[0m \u001b[31m6.3 MB/s\u001b[0m eta \u001b[36m0:00:00\u001b[0m\n",
            "\u001b[2K   \u001b[90m━━━━━━━━━━━━━━━━━━━━━━━━━━━━━━━━━━━━━━━━\u001b[0m \u001b[32m465.9/465.9 kB\u001b[0m \u001b[31m18.9 MB/s\u001b[0m eta \u001b[36m0:00:00\u001b[0m\n",
            "\u001b[?25h--2024-11-14 09:12:15--  https://raw.githubusercontent.com/Nikbert/EPI_simulations/main/utils/utils.py\n",
            "Resolving raw.githubusercontent.com (raw.githubusercontent.com)... 185.199.108.133, 185.199.109.133, 185.199.110.133, ...\n",
            "Connecting to raw.githubusercontent.com (raw.githubusercontent.com)|185.199.108.133|:443... connected.\n",
            "HTTP request sent, awaiting response... 200 OK\n",
            "Length: 35381 (35K) [text/plain]\n",
            "Saving to: ‘utils.py’\n",
            "\n",
            "utils.py            100%[===================>]  34.55K  --.-KB/s    in 0.01s   \n",
            "\n",
            "2024-11-14 09:12:16 (3.32 MB/s) - ‘utils.py’ saved [35381/35381]\n",
            "\n",
            "--2024-11-14 09:12:16--  https://raw.githubusercontent.com/Nikbert/EPI_simulations/main/Models/cropped_phantom.mat\n",
            "Resolving raw.githubusercontent.com (raw.githubusercontent.com)... 185.199.109.133, 185.199.108.133, 185.199.111.133, ...\n",
            "Connecting to raw.githubusercontent.com (raw.githubusercontent.com)|185.199.109.133|:443... connected.\n",
            "HTTP request sent, awaiting response... 200 OK\n",
            "Length: 8024 (7.8K) [application/octet-stream]\n",
            "Saving to: ‘cropped_phantom.mat’\n",
            "\n",
            "cropped_phantom.mat 100%[===================>]   7.84K  --.-KB/s    in 0s      \n",
            "\n",
            "2024-11-14 09:12:16 (79.6 MB/s) - ‘cropped_phantom.mat’ saved [8024/8024]\n",
            "\n",
            "--2024-11-14 09:12:16--  https://raw.githubusercontent.com/Nikbert/EPI_simulations/main/measured_line_center_offsets/diff_center_kx_c_even.npy\n",
            "Resolving raw.githubusercontent.com (raw.githubusercontent.com)... 185.199.108.133, 185.199.109.133, 185.199.110.133, ...\n",
            "Connecting to raw.githubusercontent.com (raw.githubusercontent.com)|185.199.108.133|:443... connected.\n",
            "HTTP request sent, awaiting response... 200 OK\n",
            "Length: 25728 (25K) [application/octet-stream]\n",
            "Saving to: ‘diff_center_kx_c_even.npy’\n",
            "\n",
            "diff_center_kx_c_ev 100%[===================>]  25.12K  --.-KB/s    in 0.002s  \n",
            "\n",
            "2024-11-14 09:12:16 (15.2 MB/s) - ‘diff_center_kx_c_even.npy’ saved [25728/25728]\n",
            "\n",
            "--2024-11-14 09:12:16--  https://raw.githubusercontent.com/Nikbert/EPI_simulations/main/measured_line_center_offsets/diff_center_kx_c_odd.npy\n",
            "Resolving raw.githubusercontent.com (raw.githubusercontent.com)... 185.199.109.133, 185.199.108.133, 185.199.110.133, ...\n",
            "Connecting to raw.githubusercontent.com (raw.githubusercontent.com)|185.199.109.133|:443... connected.\n",
            "HTTP request sent, awaiting response... 200 OK\n",
            "Length: 25728 (25K) [application/octet-stream]\n",
            "Saving to: ‘diff_center_kx_c_odd.npy’\n",
            "\n",
            "diff_center_kx_c_od 100%[===================>]  25.12K  --.-KB/s    in 0.001s  \n",
            "\n",
            "2024-11-14 09:12:16 (16.7 MB/s) - ‘diff_center_kx_c_odd.npy’ saved [25728/25728]\n",
            "\n",
            "--2024-11-14 09:12:16--  https://raw.githubusercontent.com/Nikbert/EPI_simulations/main/measured_line_center_offsets/diff_center_kx_p_even.npy\n",
            "Resolving raw.githubusercontent.com (raw.githubusercontent.com)... 185.199.109.133, 185.199.108.133, 185.199.110.133, ...\n",
            "Connecting to raw.githubusercontent.com (raw.githubusercontent.com)|185.199.109.133|:443... connected.\n",
            "HTTP request sent, awaiting response... 200 OK\n",
            "Length: 25728 (25K) [application/octet-stream]\n",
            "Saving to: ‘diff_center_kx_p_even.npy’\n",
            "\n",
            "diff_center_kx_p_ev 100%[===================>]  25.12K  --.-KB/s    in 0.002s  \n",
            "\n",
            "2024-11-14 09:12:17 (15.4 MB/s) - ‘diff_center_kx_p_even.npy’ saved [25728/25728]\n",
            "\n",
            "--2024-11-14 09:12:17--  https://raw.githubusercontent.com/Nikbert/EPI_simulations/main/measured_line_center_offsets/diff_center_kx_p_odd.npy\n",
            "Resolving raw.githubusercontent.com (raw.githubusercontent.com)... 185.199.108.133, 185.199.109.133, 185.199.111.133, ...\n",
            "Connecting to raw.githubusercontent.com (raw.githubusercontent.com)|185.199.108.133|:443... connected.\n",
            "HTTP request sent, awaiting response... 200 OK\n",
            "Length: 25728 (25K) [application/octet-stream]\n",
            "Saving to: ‘diff_center_kx_p_odd.npy’\n",
            "\n",
            "diff_center_kx_p_od 100%[===================>]  25.12K  --.-KB/s    in 0.002s  \n",
            "\n",
            "2024-11-14 09:12:17 (15.1 MB/s) - ‘diff_center_kx_p_odd.npy’ saved [25728/25728]\n",
            "\n"
          ]
        }
      ],
      "source": [
        "try:\n",
        "  import pypulseq as mr\n",
        "  import sigpy as sp\n",
        "  #!wget https://raw.githubusercontent.com/Nikbert/EPI_simulations/main/Models/cropped_phantom.mat\n",
        "  # Niklas mod of Frank's utils that uses the phantom model for simulation\n",
        "  #!wget https://raw.githubusercontent.com/Nikbert/EPI_simulations/main/utils/utils.py\n",
        "  print(\"pypulseq package is readily available\\n\")\n",
        "\n",
        "except ImportError or ModuleNotFoundError:\n",
        "  !pip install git+https://github.com/imr-framework/pypulseq.git\n",
        "  !pip install sigpy\n",
        "  #!pip install git+https://github.com/FrankZijlstra/pypulseq.git@bugfixes\n",
        "  !pip install -q mrzerocore git+https://github.com/imr-framework/pypulseq.git\n",
        "  # Frank's utils\n",
        "  #!wget https://raw.githubusercontent.com/pulseq/MR-Physics-with-Pulseq/main/utils/utils.py\n",
        "  # Niklas mod of Frank's utils that uses the phantom model for simulation\n",
        "  !wget https://raw.githubusercontent.com/Nikbert/EPI_simulations/main/utils/utils.py\n",
        "  !wget https://raw.githubusercontent.com/Nikbert/EPI_simulations/main/Models/cropped_phantom.mat\n",
        "  !wget https://raw.githubusercontent.com/Nikbert/EPI_simulations/main/measured_line_center_offsets/diff_center_kx_c_even.npy\n",
        "  !wget https://raw.githubusercontent.com/Nikbert/EPI_simulations/main/measured_line_center_offsets/diff_center_kx_c_odd.npy\n",
        "  !wget https://raw.githubusercontent.com/Nikbert/EPI_simulations/main/measured_line_center_offsets/diff_center_kx_p_even.npy\n",
        "  !wget https://raw.githubusercontent.com/Nikbert/EPI_simulations/main/measured_line_center_offsets/diff_center_kx_p_odd.npy\n",
        "\n",
        "  # for simulation\n",
        "  #!pip show MRzeroCore || pip install MRzeroCore\n",
        "  #!wget https://github.com/MRsources/MRzero-Core/raw/main/documentation/playground_mr0/util.py\n",
        "  #!wget https://github.com/MRsources/MRzero-Core/raw/main/documentation/playground_mr0/numerical_brain_cropped.mat\n"
      ]
    },
    {
      "cell_type": "markdown",
      "metadata": {
        "id": "LTyeejePqQVh"
      },
      "source": [
        "# Python imports"
      ]
    },
    {
      "cell_type": "code",
      "execution_count": 2,
      "metadata": {
        "colab": {
          "base_uri": "https://localhost:8080/"
        },
        "id": "HmPW2QurfZcW",
        "outputId": "1e7ea375-8ffc-4e56-ce31-636b24cc2788"
      },
      "outputs": [
        {
          "output_type": "stream",
          "name": "stderr",
          "text": [
            "/usr/local/lib/python3.10/dist-packages/sigpy/config.py:15: UserWarning: Importing cupy failed. For more details, see the error stack below:\n",
            "\n",
            "================================================================\n",
            "Failed to import CuPy.\n",
            "\n",
            "If you installed CuPy via wheels (cupy-cudaXXX or cupy-rocm-X-X), make sure that the package matches with the version of CUDA or ROCm installed.\n",
            "\n",
            "On Linux, you may need to set LD_LIBRARY_PATH environment variable depending on how you installed CUDA/ROCm.\n",
            "On Windows, try setting CUDA_PATH environment variable.\n",
            "\n",
            "Check the Installation Guide for details:\n",
            "  https://docs.cupy.dev/en/latest/install.html\n",
            "\n",
            "Original error:\n",
            "  ImportError: libcuda.so.1: cannot open shared object file: No such file or directory\n",
            "================================================================\n",
            "\n",
            "  warnings.warn(\n"
          ]
        }
      ],
      "source": [
        "%load_ext autoreload\n",
        "%autoreload 2\n",
        "\n",
        "import math\n",
        "import warnings\n",
        "import numpy as np\n",
        "import sigpy as sp\n",
        "from matplotlib import pyplot as plt\n",
        "\n",
        "import pypulseq as mr\n",
        "\n",
        "# Frank's utils\n",
        "#import utils # several helper functions for simulation and recon\n",
        "import MRzeroCore as mr0\n",
        "from utils import animate, simulate_2d, reconstruct"
      ]
    },
    {
      "cell_type": "markdown",
      "metadata": {
        "id": "yXWZqRmzdLfh"
      },
      "source": [
        "# Set high-level sequence parameters\n",
        "\n",
        "> Add blockquote\n",
        "\n",
        "\n",
        "Use the code block below to set high-level parameters such as FOV, spatial resolution, etc..."
      ]
    },
    {
      "cell_type": "code",
      "execution_count": 3,
      "metadata": {
        "id": "IEtZ-QF4f-X8"
      },
      "outputs": [],
      "source": [
        "# Define FOV, resolution and other parameters\n",
        "fov = 220e-3\n",
        "Nx = 64 #60\n",
        "Ny = 64 #60\n",
        "slice_thickness = 4e-3  # Slice thickness\n",
        "n_slices = 1\n",
        "ro_duration=520e-6 #1200e-6 # duration of the ADC / readout event, defailt: 1200us, 240us still works\n",
        "rf_duration=2.5e-3\n",
        "\n",
        "# Set system limits\n",
        "system = mr.Opts(\n",
        "    max_grad=32,\n",
        "    grad_unit=\"mT/m\",\n",
        "    max_slew=130,\n",
        "    slew_unit=\"T/m/s\",\n",
        "    rf_ringdown_time=20e-6,\n",
        "    rf_dead_time=100e-6,\n",
        "    adc_dead_time=10e-6,\n",
        ")\n",
        "\n",
        "# More advansed options and switches. you may chose to disable some of these options to save time in the exercises\n",
        "plot: bool = True\n",
        "animate_seq: bool = True\n",
        "simulate: bool = True\n",
        "write_seq: bool = True\n",
        "seq_filename: str = \"epi_pypulseq.seq\""
      ]
    },
    {
      "cell_type": "markdown",
      "metadata": {
        "id": "2sD8uLXn1iSH"
      },
      "source": [
        "# Create Pulseq objects\n",
        "Create all kinds of objects that we will need in the sequence, such as the slice selective RF pulse, slice selection and refocusing gradients, etc..."
      ]
    },
    {
      "cell_type": "code",
      "execution_count": 4,
      "metadata": {
        "id": "S0txuBhvhFkz",
        "colab": {
          "base_uri": "https://localhost:8080/"
        },
        "outputId": "04edea8b-295f-47f1-cf7a-2909a112eb4a"
      },
      "outputs": [
        {
          "output_type": "stream",
          "name": "stdout",
          "text": [
            "delta_k 4.545454545454546\n",
            "k_width 290.90909090909093\n",
            "achieved echo spacing is 800us\n"
          ]
        },
        {
          "output_type": "stream",
          "name": "stderr",
          "text": [
            "<ipython-input-4-3330f17d4462>:2: UserWarning: Specified RF delay 0.00 us is less than the dead time 100 us. Delay was increased to the dead time.\n",
            "  rf, gz, gz_reph = mr.make_sinc_pulse(\n"
          ]
        }
      ],
      "source": [
        "# Create 90 degree slice selection pulse and gradient\n",
        "rf, gz, gz_reph = mr.make_sinc_pulse(\n",
        "    flip_angle=np.pi / 2,\n",
        "    system=system,\n",
        "    duration=rf_duration,\n",
        "    slice_thickness=slice_thickness,\n",
        "    apodization=0.5,\n",
        "    time_bw_product=4,\n",
        "    return_gz=True,\n",
        ")\n",
        "\n",
        "# Define other gradients and ADC events\n",
        "delta_k = 1 / fov\n",
        "k_width = Nx * delta_k\n",
        "print('delta_k',delta_k)\n",
        "print('k_width',k_width)\n",
        "dwell_time = ro_duration / Nx\n",
        "flat_time = np.ceil(ro_duration / system.grad_raster_time) * system.grad_raster_time  # round-up to the gradient raster\n",
        "gx = mr.make_trapezoid(\n",
        "    channel=\"x\",\n",
        "    system=system,\n",
        "    amplitude=k_width / ro_duration,\n",
        "    flat_time=flat_time,\n",
        ")\n",
        "\n",
        "gx_even = mr.make_trapezoid(\n",
        "    channel=\"x\",\n",
        "    system=system,\n",
        "    #amplitude = (k_width + 0.05) / ro_duration,\n",
        "    amplitude = (k_width) / ro_duration,\n",
        "    flat_time=flat_time,\n",
        ")\n",
        "\n",
        "gx_odd = mr.make_trapezoid(\n",
        "    channel=\"x\",\n",
        "    system=system,\n",
        "    #amplitude = (k_width) / ro_duration - 0.127,\n",
        "    amplitude = -(k_width) / ro_duration,\n",
        "    flat_time=flat_time,\n",
        ")\n",
        "\n",
        "adc = mr.make_adc(\n",
        "    num_samples=Nx,\n",
        "    duration=ro_duration,\n",
        "    delay=gx.rise_time + flat_time / 2 - (dwell_time*Nx) / 2,\n",
        "    system=system,\n",
        ")\n",
        "\n",
        "# Pre-phasing gradients (in the shortest possible time or filling the available time)\n",
        "gx_pre = mr.make_trapezoid(\n",
        "    channel=\"x\", system=system, area=-gx.area / 2, duration=mr.calc_duration(gz_reph),\n",
        ")\n",
        "gy_pre = mr.make_trapezoid(\n",
        "    channel=\"y\", system=system, area=(Ny / 2 - 1) * delta_k, duration=mr.calc_duration(gz_reph),\n",
        ")\n",
        "\n",
        "# align gradients (calculate their delays)\n",
        "gx_pre, gy_pre, gz_reph=mr.align(right=[gx_pre],left=[gy_pre, gz_reph])\n",
        "\n",
        "# Phase blip in the shortest possible time (assuming a triangle is possible)\n",
        "dur = np.ceil(2 * np.sqrt(delta_k / system.max_slew) / system.grad_raster_time) * system.grad_raster_time\n",
        "gy = mr.make_trapezoid(channel=\"y\", system=system, area=-delta_k, duration=dur)\n",
        "\n",
        "print('achieved echo spacing is {}us'.format(round(1e6*(mr.calc_duration(gx)+mr.calc_duration(gy)))))"
      ]
    },
    {
      "cell_type": "markdown",
      "metadata": {
        "id": "9Tm2D8tI7zxr"
      },
      "source": [
        "# Construct the sequence (seq) and a line by line modified Sequence (seq2)\n",
        "Contruct the sequence object and fill it up block-by-block\n",
        "\n",
        "The line modification is based on the measured_offset. Load: 'diff_center_kx_p_even/odd.npy' for Prisma data\n",
        "and\n",
        "'diff_center_kx_c_even/odd.npy' for CimaX data"
      ]
    },
    {
      "cell_type": "code",
      "execution_count": 5,
      "metadata": {
        "id": "uHCgYfk5ho6F",
        "colab": {
          "base_uri": "https://localhost:8080/"
        },
        "outputId": "4f71e398-c53a-4300-ac45-fd703798888a"
      },
      "outputs": [
        {
          "output_type": "stream",
          "name": "stdout",
          "text": [
            "n_measurements 100\n",
            "len(seq_list) 100\n"
          ]
        }
      ],
      "source": [
        "seq2 = mr.Sequence(system)  # Create a new sequence object\n",
        "Ny_2 = int(Ny/2)\n",
        "measured_offset_c_even = np.load('diff_center_kx_p_even.npy')\n",
        "measured_offset_c_odd = np.load('diff_center_kx_p_odd.npy')\n",
        "n_measurements = measured_offset_c_even.shape[0]\n",
        "print('n_measurements', n_measurements)\n",
        "# populate the sequence object with event blocks\n",
        "seq_list = []\n",
        "#n_measurements = 2\n",
        "for m in range(n_measurements):\n",
        "  seq2 = mr.Sequence(system)  # Create a new sequence object\n",
        "  for s in range(n_slices):\n",
        "    rf.freq_offset = gz.amplitude * slice_thickness * (s - (n_slices - 1) / 2)\n",
        "    seq2.add_block(rf, gz)\n",
        "    seq2.add_block(gx_pre, gy_pre, gz_reph)\n",
        "\n",
        "    for i in range(Ny_2):\n",
        "      #print('measured_offset_c_even[i,1]',measured_offset_c_even[1,i])\n",
        "      #print('measured_offset_c_odd[i,1]',measured_offset_c_odd[i,1])\n",
        "      gx_even = mr.make_trapezoid(channel=\"x\", system=system,\n",
        "        amplitude = (k_width + measured_offset_c_even[m,i]*2) / ro_duration,\n",
        "        flat_time=flat_time)\n",
        "      gx_odd = mr.make_trapezoid(channel=\"x\", system=system,\n",
        "        amplitude = -(k_width - measured_offset_c_odd[m,i]*2) / ro_duration,\n",
        "        flat_time=flat_time)\n",
        "\n",
        "      seq2.add_block(gx_even, adc)  #\n",
        "      seq2.add_block(gy)  # Phase blip\n",
        "      seq2.add_block(gx_odd, adc)\n",
        "      if i!=Ny_2-1:\n",
        "        seq2.add_block(gy)  # Phase blip\n",
        "        #gx_curr = mr.scale_grad(gx_curr,-1)  # Reverse polarity of read gradient\n",
        "  seq_list.append(seq2)\n",
        "\n",
        "print('len(seq_list)',len(seq_list))\n",
        "#namespaceobject\n",
        "\n",
        "seq = mr.Sequence(system)  # Create a new sequence object\n",
        "Ny_2 = int(Ny/2)\n",
        "\n",
        "# populate the sequence object with event blocks\n",
        "for s in range(n_slices):\n",
        "  rf.freq_offset = gz.amplitude * slice_thickness * (s - (n_slices - 1) / 2)\n",
        "  seq.add_block(rf, gz)\n",
        "  seq.add_block(gx_pre, gy_pre, gz_reph)\n",
        "  gx_curr=gx\n",
        "\n",
        "  for i in range(Ny):\n",
        "    seq.add_block(gx_curr, adc)  # Read one line of k-space out\n",
        "    if i!=Ny-1:\n",
        "      seq.add_block(gy)  # Phase blip\n",
        "      gx_curr = mr.scale_grad(gx_curr,-1)  # Reverse polarity of read gradient\n"
      ]
    },
    {
      "cell_type": "markdown",
      "metadata": {
        "id": "LBhtotHdqYMh"
      },
      "source": [
        "# Timing check\n",
        "Check whether the sequence timing is OK and the objects are consistent and compatible with each other and the target scanner"
      ]
    },
    {
      "cell_type": "code",
      "execution_count": 6,
      "metadata": {
        "id": "pTKscy94kAJM"
      },
      "outputs": [],
      "source": [
        "#(\n",
        "#    ok,\n",
        "#    error_report,\n",
        "#) = seq.check_timing()  # Check whether the timing of the sequence is correct\n",
        "#if ok:\n",
        "#    print(\"Timing check passed successfully\")\n",
        "#else:\n",
        "#    print(\"Timing check failed. Error listing follows:\")\n",
        "#    [print(e) for e in error_report]"
      ]
    },
    {
      "cell_type": "markdown",
      "metadata": {
        "id": "kmNXMnPjq6qn"
      },
      "source": [
        "# Visualize the sequence\n",
        "Here we just plot the sequence timing. Due to the limitations of the Colab environment the plots are not live, no interactive zoom-in / zoom-out is possible, therefore it is necessary to use the time_range option"
      ]
    },
    {
      "cell_type": "code",
      "execution_count": 7,
      "metadata": {
        "id": "dQWyYL5LkeGq"
      },
      "outputs": [],
      "source": [
        "#if plot:\n",
        "#  print(\"Plot the beginning of the sequence\")\n",
        "#  #seq.plot(time_range=[0, 5.22e-3], time_disp=\"us\", show_blocks=True) # just a small initial part\n",
        "#  seq.plot(time_range=[0, 8e-3], time_disp=\"ms\")\n",
        "#\n",
        "#  #\n",
        "#  print(\"Plot of the entire sequence\")\n",
        "#  seq.plot() # plot the entire sequence"
      ]
    },
    {
      "cell_type": "code",
      "execution_count": 8,
      "metadata": {
        "id": "WLTTZCHy5nIg",
        "colab": {
          "base_uri": "https://localhost:8080/",
          "height": 758
        },
        "outputId": "9fea0a42-9936-4a85-b7b2-0d7214179a87"
      },
      "outputs": [
        {
          "output_type": "display_data",
          "data": {
            "text/plain": [
              "<Figure size 1000x1000 with 1 Axes>"
            ],
            "image/png": "[encoded data removed]"
          },
          "metadata": {}
        }
      ],
      "source": [
        "[k_traj_adc, k_traj, t_excitation, t_refocusing, t_adc] = seq_list[1].calculate_kspace()\n",
        "plt.figure(figsize=(10, 10))\n",
        "plt.plot(k_traj[0,],k_traj[1,], 'b-')\n",
        "plt.plot(k_traj_adc[0,],k_traj_adc[1,], 'r.')\n",
        "ax = plt.gca()\n",
        "ax.set_aspect('equal', adjustable='box')\n",
        "plt.title('k-space trajectory')\n",
        "plt.xlabel(r'$k_x \\mathregular{\\ /m^{-1}}$')\n",
        "plt.ylabel(r'$k_y \\mathregular{\\ /m^{-1}}$')\n",
        "plt.draw()"
      ]
    },
    {
      "cell_type": "markdown",
      "metadata": {
        "id": "Vk4JivIbnz_1"
      },
      "source": [
        "# (Optionally) Analyze the sequence\n",
        "Very optional slow step, but useful for testing during development\n",
        "e.g. for the real TE, TR or for staying within slew-rate limits, etc."
      ]
    },
    {
      "cell_type": "code",
      "execution_count": 9,
      "metadata": {
        "id": "J0JeFpP773gS",
        "colab": {
          "base_uri": "https://localhost:8080/"
        },
        "outputId": "7dc04bd4-f24b-4021-d364-382c6328ae72"
      },
      "outputs": [
        {
          "output_type": "stream",
          "name": "stdout",
          "text": [
            "Number of blocks: 129\n",
            "Number of events:\n",
            "RF:      1\n",
            "Gx:     65\n",
            "Gy:     64\n",
            "Gz:      2\n",
            "ADC:     64\n",
            "Delay:      0\n",
            "Sequence duration: 0.054450 s\n",
            "TE: 0.027130 s\n",
            "TR: 0.054450 s\n",
            "Flip angle: 90.00 deg\n",
            "Unique k-space positions (aka cols, rows, etc.): 64 64 \n",
            "Dimensions: 2\n",
            "Spatial resolution: 3.49 mm\n",
            "Spatial resolution: 3.44 mm\n",
            "Repetitions/slices/contrasts: 1.0; range: [(1.0, 1.0)]\n",
            "Cartesian encoding trajectory detected\n",
            "Max gradient: 559441 299807 1357895 Hz/m == 13.14 7.04 31.89 mT/m\n",
            "Max slew rate: 5085823268 5050505051 5431578947 Hz/m/s == 119.45 118.62 127.57 T/m/s\n",
            "Max absolute gradient: 1444687 Hz/m == 33.93 mT/m\n",
            "Max absolute slew rate: 6.14381e+09 Hz/m/s == 144.30 T/m/s\n",
            "Event timing check failed with 64 errors in total. \n",
            "Details of the first up to 20 timing errors:\n",
            "namespace(block=3, event='adc', field='dwell', value=8.125e-06, value_rounded=8.1e-06, error=2.4999999999998914e-08, raster='adc_raster_time', error_type='RASTER')\n",
            "namespace(block=5, event='adc', field='dwell', value=8.125e-06, value_rounded=8.1e-06, error=2.4999999999998914e-08, raster='adc_raster_time', error_type='RASTER')\n",
            "namespace(block=7, event='adc', field='dwell', value=8.125e-06, value_rounded=8.1e-06, error=2.4999999999998914e-08, raster='adc_raster_time', error_type='RASTER')\n",
            "namespace(block=9, event='adc', field='dwell', value=8.125e-06, value_rounded=8.1e-06, error=2.4999999999998914e-08, raster='adc_raster_time', error_type='RASTER')\n",
            "namespace(block=11, event='adc', field='dwell', value=8.125e-06, value_rounded=8.1e-06, error=2.4999999999998914e-08, raster='adc_raster_time', error_type='RASTER')\n",
            "namespace(block=13, event='adc', field='dwell', value=8.125e-06, value_rounded=8.1e-06, error=2.4999999999998914e-08, raster='adc_raster_time', error_type='RASTER')\n",
            "namespace(block=15, event='adc', field='dwell', value=8.125e-06, value_rounded=8.1e-06, error=2.4999999999998914e-08, raster='adc_raster_time', error_type='RASTER')\n",
            "namespace(block=17, event='adc', field='dwell', value=8.125e-06, value_rounded=8.1e-06, error=2.4999999999998914e-08, raster='adc_raster_time', error_type='RASTER')\n",
            "namespace(block=19, event='adc', field='dwell', value=8.125e-06, value_rounded=8.1e-06, error=2.4999999999998914e-08, raster='adc_raster_time', error_type='RASTER')\n",
            "namespace(block=21, event='adc', field='dwell', value=8.125e-06, value_rounded=8.1e-06, error=2.4999999999998914e-08, raster='adc_raster_time', error_type='RASTER')\n",
            "namespace(block=23, event='adc', field='dwell', value=8.125e-06, value_rounded=8.1e-06, error=2.4999999999998914e-08, raster='adc_raster_time', error_type='RASTER')\n",
            "namespace(block=25, event='adc', field='dwell', value=8.125e-06, value_rounded=8.1e-06, error=2.4999999999998914e-08, raster='adc_raster_time', error_type='RASTER')\n",
            "namespace(block=27, event='adc', field='dwell', value=8.125e-06, value_rounded=8.1e-06, error=2.4999999999998914e-08, raster='adc_raster_time', error_type='RASTER')\n",
            "namespace(block=29, event='adc', field='dwell', value=8.125e-06, value_rounded=8.1e-06, error=2.4999999999998914e-08, raster='adc_raster_time', error_type='RASTER')\n",
            "namespace(block=31, event='adc', field='dwell', value=8.125e-06, value_rounded=8.1e-06, error=2.4999999999998914e-08, raster='adc_raster_time', error_type='RASTER')\n",
            "namespace(block=33, event='adc', field='dwell', value=8.125e-06, value_rounded=8.1e-06, error=2.4999999999998914e-08, raster='adc_raster_time', error_type='RASTER')\n",
            "namespace(block=35, event='adc', field='dwell', value=8.125e-06, value_rounded=8.1e-06, error=2.4999999999998914e-08, raster='adc_raster_time', error_type='RASTER')\n",
            "namespace(block=37, event='adc', field='dwell', value=8.125e-06, value_rounded=8.1e-06, error=2.4999999999998914e-08, raster='adc_raster_time', error_type='RASTER')\n",
            "namespace(block=39, event='adc', field='dwell', value=8.125e-06, value_rounded=8.1e-06, error=2.4999999999998914e-08, raster='adc_raster_time', error_type='RASTER')\n",
            "namespace(block=41, event='adc', field='dwell', value=8.125e-06, value_rounded=8.1e-06, error=2.4999999999998914e-08, raster='adc_raster_time', error_type='RASTER')\n",
            "...\n"
          ]
        }
      ],
      "source": [
        "rep = seq.test_report()\n",
        "print(rep)"
      ]
    },
    {
      "cell_type": "markdown",
      "metadata": {
        "id": "iARu27z-nn6B"
      },
      "source": [
        "#Write the .seq file\n",
        "\n",
        "Set the output parameters (definitions) and write the sequence to the file.\n",
        "\n",
        "*Note: The FOV definition is also used by the simulation/reconstruction code below*"
      ]
    },
    {
      "cell_type": "code",
      "execution_count": 10,
      "metadata": {
        "id": "qnfYzw-Pzx2H",
        "outputId": "ee817b9f-e947-4832-8100-aa2a9579f4a2",
        "colab": {
          "base_uri": "https://localhost:8080/"
        }
      },
      "outputs": [
        {
          "output_type": "stream",
          "name": "stderr",
          "text": [
            "<ipython-input-10-47c656987b93>:7: UserWarning: write(): 64 timing errors found in the sequence\n",
            "  seq.write(seq_filename)\n"
          ]
        }
      ],
      "source": [
        "# Prepare the sequence output for the scanner\n",
        "seq.set_definition(key=\"FOV\", value=[fov, fov, slice_thickness*n_slices])\n",
        "seq.set_definition(key=\"Name\", value=\"epi\")\n",
        "#\n",
        "if write_seq:\n",
        "  # Write the sequence file\n",
        "  seq.write(seq_filename)\n",
        "#  from google.colab import files\n",
        "#  files.download(seq_filename)  # Download locally"
      ]
    },
    {
      "cell_type": "markdown",
      "metadata": {
        "id": "gqVCYCHYdfZs"
      },
      "source": [
        "#Animate trajectory"
      ]
    },
    {
      "cell_type": "code",
      "execution_count": 11,
      "metadata": {
        "id": "SoNtyRAEbq-F"
      },
      "outputs": [],
      "source": [
        "#if animate_seq:\n",
        "#  ani = animate(seq, show=False, dt=1e-3, fps=5, show_progress=True) # additional paremeter: time_range=[start, end]\n",
        "#  from IPython.display import HTML\n",
        "#  display(HTML(ani.to_html5_video()))"
      ]
    },
    {
      "cell_type": "markdown",
      "metadata": {
        "id": "zZJonpjrzHga"
      },
      "source": [
        "**Run MR-zero simulation**\n",
        "\n",
        "The code below simulates the whole sequence, and shows the magnitude of the raw k-space profiles."
      ]
    },
    {
      "cell_type": "code",
      "execution_count": 12,
      "metadata": {
        "id": "5jqhOUxQtYPf"
      },
      "outputs": [],
      "source": [
        "#load cropped_phantom.mat\n",
        "sim_filename = 'cropped_phantom.mat'"
      ]
    },
    {
      "cell_type": "code",
      "execution_count": null,
      "metadata": {
        "id": "hLoKdmAhbdvM",
        "colab": {
          "base_uri": "https://localhost:8080/"
        },
        "outputId": "9f1604a2-1fe2-4cbf-a678-7acbe7b4bb1e"
      },
      "outputs": [
        {
          "output_type": "stream",
          "name": "stdout",
          "text": [
            "Downloading https://github.com/mzaiss/MRTwin_pulseq/raw/mr0-core/data/numerical_brain_cropped.mat...\n"
          ]
        },
        {
          "output_type": "stream",
          "name": "stderr",
          "text": [
            "/content/utils.py:78: UserWarning: write(): 64 timing errors found in the sequence\n",
            "  seq.write('tmp.seq')\n"
          ]
        },
        {
          "output_type": "stream",
          "name": "stdout",
          "text": [
            "\rCalculating repetition 1 / 1"
          ]
        }
      ],
      "source": [
        "if simulate:\n",
        "  # Simulate sequence\n",
        "  #kdata = mr0.compute_graph(seq, obj_p, 200, 1e-3)\n",
        "  #kdata2 = mr0.compute_graph(seq2, obj_p, 200, 1e-3)\n",
        "\n",
        "  kdata = simulate_2d(seq, sim_size=[Nx*2,Ny*2], noise_level=0, n_coils=1) # B0_polynomial=[...] optional parameter: B0_offset, Gx, Gy, x^2, y^2, x*y; units??? good value 200\n",
        "  kdata2 = simulate_2d(seq2, sim_size=[Nx*2,Ny*2], noise_level=0, n_coils=1)\n",
        "\n",
        "  kdata_list = []\n",
        "  for m in range(n_measurements):\n",
        "    print('m',m)\n",
        "  #for m in range(1):\n",
        "    kdata_temp = simulate_2d(seq_list[m], sim_size=[Nx*2,Ny*2], noise_level=0, n_coils=1)\n",
        "    kdata_list.append(kdata_temp)\n",
        "\n",
        "  # Display raw data profiles\n",
        "  plt.figure()\n",
        "  plt.imshow(abs(kdata[0].reshape(-1,adc.num_samples)))\n",
        "  plt.title('Magnitude of acquired raw data'); # raw data, not k-space data (odd/even lines not reverted)\n",
        "\n",
        "  # Display the data more correctly\n",
        "  kdata_swapped=np.zeros_like(kdata)\n",
        "  kdata_swapped[:,0::2,:]=kdata[:,0::2,:]\n",
        "  kdata_swapped[:,1::2,:]=kdata[:,1::2,::-1]\n",
        "  plt.figure()\n",
        "  plt.imshow(abs(kdata_swapped[0].reshape(-1,adc.num_samples)))\n",
        "  plt.title('Magnitude of k-space data (odd lines swapped)'); # raw data, not k-space data (odd/even lines not reverted)\n"
      ]
    },
    {
      "cell_type": "markdown",
      "metadata": {
        "id": "WZZiRMLPb3ul"
      },
      "source": [
        "**Reconstruction**"
      ]
    },
    {
      "cell_type": "code",
      "execution_count": null,
      "metadata": {
        "id": "zeEk_c0Ob6jE"
      },
      "outputs": [],
      "source": [
        "if simulate:\n",
        "\n",
        "  rec = reconstruct(kdata, seq, trajectory_delay=0e-6, cartesian=False) # for the trajectory delay to work with the basic (non-ramp-sampling EPI) cartesian=False is needed\n",
        "  # need to invert data dimentions because the reconstruction code uses iFFT to go from k-space to image space\n",
        "  rec=rec[::-1,::-1]\n",
        "\n",
        "  rec2 = reconstruct(kdata2, seq, trajectory_delay=0e-6, cartesian=False) # for the trajectory delay to work with the basic (non-ramp-sampling EPI) cartesian=False is needed\n",
        "  # need to invert data dimentions because the reconstruction code uses iFFT to go from k-space to image space\n",
        "  rec2=rec2[::-1,::-1]\n",
        "\n",
        "  rec_list = np.zeros((66,64,n_measurements))\n",
        "  for m in range(n_measurements):\n",
        "    print('m',m)\n",
        "    kdata_temp = kdata_list[m]\n",
        "    rec_temp = reconstruct(kdata_temp, seq, trajectory_delay=0e-6, cartesian=False)\n",
        "    rec_list[:,:,m] = rec_temp[::-1,::-1]\n",
        "    #rec_list.append(rec_temp)\n",
        "\n",
        "  #rec_list = np.load('recon_list_CimaX.npy')\n"
      ]
    },
    {
      "cell_type": "code",
      "source": [
        "  #Plot test figure\n",
        "\n",
        "  fig, ax = plt.subplots(nrows=1, ncols=3)\n",
        "  ax = ax.flatten()\n",
        "\n",
        "  ax[0].imshow(abs(rec), origin='lower')\n",
        "  #ax[0].imshow(abs(rec_list[:,:,10]), origin='lower')\n",
        "  ax[0].set_title('kdata')\n",
        "\n",
        "  #ax[1].imshow(abs(rec_list[:,:,61]), origin='lower')\n",
        "  ax[1].imshow(abs(rec2), origin='lower')\n",
        "  ax[1].set_title('kdata2')\n",
        "  print('test')\n",
        "  ax[2].imshow(abs(rec2)-abs(rec), origin='lower')\n",
        "  #ax[2].imshow(abs(rec_list[:,:,10])-abs(rec_list[:,:,61]), origin='lower')\n",
        "  ax[2].set_title('kdata3')\n",
        "\n",
        "  fig.tight_layout()\n",
        "  fig.set_figheight(6)\n",
        "  fig.set_figwidth(18)\n",
        "  plt.show();"
      ],
      "metadata": {
        "id": "FdWRwqLs6Yu0"
      },
      "execution_count": null,
      "outputs": []
    },
    {
      "cell_type": "code",
      "execution_count": null,
      "metadata": {
        "id": "okakQoyjjSjC"
      },
      "outputs": [],
      "source": [
        "# Save list of reconstructed images\n",
        "\n",
        "np.save('recon_list_Prisma.npy',rec_list)\n",
        "\n",
        "from scipy.io import savemat\n",
        "\n",
        "savemat('recon_list_Prisma.mat', {'recon_list_Prisma': rec_list})\n",
        "\n"
      ]
    },
    {
      "cell_type": "markdown",
      "metadata": {
        "id": "f1q5xIpisA89"
      },
      "source": [
        "# Exercises (getting familiar with EPI)\n",
        "* **Familiarize yourself with the sequence**: find parameters to control FOV, spatial resolution, slice number and thickness, and readout bandwidth.\n",
        "* **Implement an additional option for suppressing / inverting phase encoding**: one posibility is to add a switch `pe_switch` or similar variable to the \"high-level sequence parameters\" section taking values of (1,0,-1) and implement necessary code alternations. Known limitation of the code: the the image reconstruction will crash without phase encoding.\n",
        "* **Experiment with B0_polynomial and pe_switch**, modify echo spacing by testing various values of `ro_duration` and visualize geometric distortions. Enhance distordion appearence by inverting the PE sign. `B0_polynomial` is an optional parameter to the `simulate_2d()` call and can be specified as `B0_polynomial=[0,0,0,0,0,0]`. The later setting will also reset the default (measured) B0 field map provided with the phantom data set. Setting any of the values in the array to non-zeros will induce corresponding spatial field term, see the comment to the `simulate_2d()` call.  \n",
        "* **Check yourself**\n",
        "  1. What is the native Pulseq unit for the gradient strength?\n",
        "  2. Can you read the current spatial resolution from the k-space plot?\n",
        "  3. What is the Pulseq native unit for the RF amplitude?\n",
        "  4. Why certain combinations of matrix size and readout duration are not possible?\n"
      ]
    }
  ],
  "metadata": {
    "colab": {
      "provenance": [],
      "include_colab_link": true
    },
    "kernelspec": {
      "display_name": "Python 3",
      "name": "python3"
    }
  },
  "nbformat": 4,
  "nbformat_minor": 0
}