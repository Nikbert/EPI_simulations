{
  "cells": [
    {
      "cell_type": "markdown",
      "metadata": {
        "id": "view-in-github",
        "colab_type": "text"
      },
      "source": [
        "<a href=\"https://colab.research.google.com/github/Nikbert/EPI_simulations/blob/main/tutorials/07_echo_planar_imaging/notebooks/01_write_and_simulate_basic_EPI.ipynb\" target=\"_parent\"><img src=\"https://colab.research.google.com/assets/colab-badge.svg\" alt=\"Open In Colab\"/></a>"
      ]
    },
    {
      "cell_type": "markdown",
      "source": [
        "# Example EPI sequence\n",
        "(adopted from https://github.com/imr-framework/pypulseq/blob/dev/pypulseq/seq_examples/scripts/write_epi.py with some modifications)\n",
        "\n",
        "For the first-time use select Runtime->Run All (or hit Ctrl+F9) as thie initial setup of the environment takes about a minute. In a mean time scroll down to familiarize yourself with the sequence code.\n",
        "\n",
        "The exercises are at the at of the notebook"
      ],
      "metadata": {
        "id": "mJe7X9UGeWF1"
      }
    },
    {
      "cell_type": "markdown",
      "source": [
        "# Initial package set-up\n",
        "This is a necessary step for the Colab environment, and it is only slow on the first run"
      ],
      "metadata": {
        "id": "y-JTbHumqEST"
      }
    },
    {
      "cell_type": "code",
      "source": [
        "try:\n",
        "  import pypulseq as mr\n",
        "  print(\"pypulseq package is readily available\\n\")\n",
        "\n",
        "except ImportError or ModuleNotFoundError:\n",
        "  #!pip install git+https://github.com/imr-framework/pypulseq.git\n",
        "  #!pip install git+https://github.com/FrankZijlstra/pypulseq.git@bugfixes\n",
        "  !pip install -q mrzerocore git+https://github.com/imr-framework/pypulseq.git\n",
        "  # Frank's utils\n",
        "  !wget https://raw.githubusercontent.com/pulseq/MR-Physics-with-Pulseq/main/utils/utils.py"
      ],
      "metadata": {
        "id": "1MmzSDftfM0Z",
        "outputId": "7d61ffda-8040-431f-9114-bb4b293b7933",
        "colab": {
          "base_uri": "https://localhost:8080/"
        }
      },
      "execution_count": 112,
      "outputs": [
        {
          "output_type": "stream",
          "name": "stdout",
          "text": [
            "pypulseq package is readily available\n",
            "\n"
          ]
        }
      ]
    },
    {
      "cell_type": "markdown",
      "source": [
        "# Python imports"
      ],
      "metadata": {
        "id": "LTyeejePqQVh"
      }
    },
    {
      "cell_type": "code",
      "source": [
        "import math\n",
        "import warnings\n",
        "import numpy as np\n",
        "from matplotlib import pyplot as plt\n",
        "\n",
        "import pypulseq as mr\n",
        "\n",
        "# Frank's utils\n",
        "from utils import animate, simulate_2d, reconstruct"
      ],
      "metadata": {
        "id": "HmPW2QurfZcW"
      },
      "execution_count": 113,
      "outputs": []
    },
    {
      "cell_type": "markdown",
      "source": [
        "# Set high-level sequence parameters\n",
        "Use the code block below to set high-level parameters such as FOV, spatial resolution, etc..."
      ],
      "metadata": {
        "id": "yXWZqRmzdLfh"
      }
    },
    {
      "cell_type": "code",
      "source": [
        "# Define FOV, resolution and other parameters\n",
        "fov = 220e-3\n",
        "Nx = 64 #60\n",
        "Ny = 64 #60\n",
        "slice_thickness = 4e-3  # Slice thickness\n",
        "n_slices = 1\n",
        "ro_duration=1200e-6 # duration of the ADC / readout event, defailt: 1200us, 240us still works\n",
        "rf_duration=2.5e-3\n",
        "\n",
        "# Set system limits\n",
        "system = mr.Opts(\n",
        "    max_grad=32,\n",
        "    grad_unit=\"mT/m\",\n",
        "    max_slew=130,\n",
        "    slew_unit=\"T/m/s\",\n",
        "    rf_ringdown_time=20e-6,\n",
        "    rf_dead_time=100e-6,\n",
        "    adc_dead_time=10e-6,\n",
        ")\n",
        "\n",
        "# More advansed options and switches. you may chose to disable some of these options to save time in the exercises\n",
        "plot: bool = True\n",
        "animate_seq: bool = True\n",
        "simulate: bool = True\n",
        "write_seq: bool = True\n",
        "seq_filename: str = \"epi_pypulseq.seq\""
      ],
      "metadata": {
        "id": "IEtZ-QF4f-X8"
      },
      "execution_count": 114,
      "outputs": []
    },
    {
      "cell_type": "markdown",
      "source": [
        "# Create Pulseq objects\n",
        "Create all kinds of objects that we will need in the sequence, such as the slice selective RF pulse, slice selection and refocusing gradients, etc..."
      ],
      "metadata": {
        "id": "2sD8uLXn1iSH"
      }
    },
    {
      "cell_type": "code",
      "source": [
        "# Create 90 degree slice selection pulse and gradient\n",
        "rf, gz, gz_reph = mr.make_sinc_pulse(\n",
        "    flip_angle=np.pi / 2,\n",
        "    system=system,\n",
        "    duration=rf_duration,\n",
        "    slice_thickness=slice_thickness,\n",
        "    apodization=0.5,\n",
        "    time_bw_product=4,\n",
        "    return_gz=True,\n",
        ")\n",
        "\n",
        "# Define other gradients and ADC events\n",
        "delta_k = 1 / fov\n",
        "k_width = Nx * delta_k\n",
        "print('delta_k',delta_k)\n",
        "print('k_width',k_width)\n",
        "dwell_time = ro_duration / Nx\n",
        "flat_time = np.ceil(ro_duration / system.grad_raster_time) * system.grad_raster_time  # round-up to the gradient raster\n",
        "gx = mr.make_trapezoid(\n",
        "    channel=\"x\",\n",
        "    system=system,\n",
        "    amplitude=k_width / ro_duration,\n",
        "    flat_time=flat_time,\n",
        ")\n",
        "gx2 = mr.make_trapezoid(\n",
        "    channel=\"x\",\n",
        "    system=system,\n",
        "    #amplitude = (k_width) / ro_duration + 0.05,\n",
        "    #amplitude = (k_width + delta_k/2) / ro_duration,\n",
        "    amplitude = (k_width + 0.5*10) / ro_duration,\n",
        "    flat_time=flat_time,\n",
        ")\n",
        "gx3 = mr.make_trapezoid(\n",
        "    channel=\"x\",\n",
        "    system=system,\n",
        "    #amplitude = (k_width) / ro_duration - 0.127,\n",
        "    amplitude = (k_width - 0.5*10) / ro_duration,\n",
        "    flat_time=flat_time,\n",
        ")\n",
        "\n",
        "#amplitude = (k_width) / ro_duration - 0.127,\n",
        "amplitude2 = (k_width - delta_k/2) / ro_duration,\n",
        "\n",
        "#print('amplitude',amplitude)\n",
        "print('amplitude2',amplitude2)\n",
        "\n",
        "adc = mr.make_adc(\n",
        "    num_samples=Nx,\n",
        "    duration=ro_duration,\n",
        "    delay=gx.rise_time + flat_time / 2 - (dwell_time*Nx) / 2,\n",
        "    system=system,\n",
        ")\n",
        "\n",
        "# Pre-phasing gradients (in the shortest possible time or filling the available time)\n",
        "gx_pre = mr.make_trapezoid(\n",
        "    channel=\"x\", system=system, area=-gx.area / 2, duration=mr.calc_duration(gz_reph),\n",
        ")\n",
        "gy_pre = mr.make_trapezoid(\n",
        "    channel=\"y\", system=system, area=(Ny / 2 - 1) * delta_k, duration=mr.calc_duration(gz_reph),\n",
        ")\n",
        "\n",
        "# align gradients (calculate their delays)\n",
        "gx_pre, gy_pre, gz_reph=mr.align(right=[gx_pre],left=[gy_pre, gz_reph])\n",
        "\n",
        "# Phase blip in the shortest possible time (assuming a triangle is possible)\n",
        "dur = np.ceil(2 * np.sqrt(delta_k / system.max_slew) / system.grad_raster_time) * system.grad_raster_time\n",
        "gy = mr.make_trapezoid(channel=\"y\", system=system, area=-delta_k, duration=dur)\n",
        "\n",
        "print('achieved echo spacing is {}us'.format(round(1e6*(mr.calc_duration(gx)+mr.calc_duration(gy)))))"
      ],
      "metadata": {
        "id": "S0txuBhvhFkz",
        "outputId": "c853886d-6e48-4a3f-a103-b506b491a08c",
        "colab": {
          "base_uri": "https://localhost:8080/"
        }
      },
      "execution_count": 115,
      "outputs": [
        {
          "output_type": "stream",
          "name": "stdout",
          "text": [
            "delta_k 4.545454545454546\n",
            "k_width 290.90909090909093\n",
            "amplitude2 (240530.3030303031,)\n",
            "achieved echo spacing is 1360us\n"
          ]
        }
      ]
    },
    {
      "cell_type": "markdown",
      "source": [
        "# Construct the sequence\n",
        "Contruct the sequence object and fill it up block-by-block"
      ],
      "metadata": {
        "id": "9Tm2D8tI7zxr"
      }
    },
    {
      "cell_type": "code",
      "source": [
        "seq2 = mr.Sequence(system)  # Create a new sequence object\n",
        "Ny_2 = int(Ny/2)\n",
        "\n",
        "# populate the sequence object with event blocks\n",
        "for s in range(n_slices):\n",
        "  rf.freq_offset = gz.amplitude * slice_thickness * (s - (n_slices - 1) / 2)\n",
        "  seq2.add_block(rf, gz)\n",
        "  seq2.add_block(gx_pre, gy_pre, gz_reph)\n",
        "  gx_curr=gx\n",
        "  gx_currr=mr.scale_grad(gx,-1)\n",
        "  gx_curr2=gx2\n",
        "  gx_curr2r=mr.scale_grad(gx2,-1)\n",
        "  gx_curr3=gx3\n",
        "  gx_curr3r=mr.scale_grad(gx3,-1)\n",
        "\n",
        "  #Otest\n",
        "  #for i in range(Ny_2-2):\n",
        "  #  seq2.add_block(gx_curr, adc)  # Read one line of k-space out\n",
        "  #  if i!=Ny-1:\n",
        "  #    seq2.add_block(gy)  # Phase blip\n",
        "  #    gx_curr = mr.scale_grad(gx_curr,-1)  # Reverse polarity of read gradient\n",
        "\n",
        "  for i in range(6):\n",
        "    #seq.add_block(gx_curr2)  # Change first of k-space out\n",
        "    seq2.add_block(gx_curr2, adc)  # Read one line of k-space out\n",
        "    seq2.add_block(gy)  # Phase blip\n",
        "    seq2.add_block(gx_currr,adc)\n",
        "    seq2.add_block(gy)  # Phase blip\n",
        "    seq2.add_block(gx_curr3,adc)\n",
        "    seq2.add_block(gy)  # Phase blip\n",
        "    seq2.add_block(gx_curr2r, adc)  # Read one line of k-space out\n",
        "    seq2.add_block(gy)  # Phase blip\n",
        "    seq2.add_block(gx_curr, adc)  # Read one line of k-space out\n",
        "    seq2.add_block(gy)  # Phase blip\n",
        "    seq2.add_block(gx_curr3r,adc)\n",
        "    seq2.add_block(gy)  # Phase blip\n",
        "    seq2.add_block(gx_curr, adc)  # Read one line of k-space out\n",
        "    seq2.add_block(gy)  # Phase blip\n",
        "    seq2.add_block(gx_curr2r, adc)  # Read one line of k-space out\n",
        "    seq2.add_block(gy)  # Phase blip\n",
        "    seq2.add_block(gx_curr2, adc)  # Read one line of k-space out\n",
        "    seq2.add_block(gy)  # Phase blip\n",
        "    seq2.add_block(gx_currr,adc)\n",
        "    seq2.add_block(gy)  # Phase blip\n",
        "\n",
        "  for i in range(Ny-60):\n",
        "    seq2.add_block(gx_curr, adc)  # Read one line of k-space out\n",
        "    if i!=Ny-1:\n",
        "      seq2.add_block(gy)  # Phase blip\n",
        "      gx_curr = mr.scale_grad(gx_curr,-1)  # Reverse polarity of read gradient\n",
        "\n",
        "  #for i in range(1):\n",
        "  #  #seq.add_block(gx_curr2)  # Change first of k-space out\n",
        "  #  seq2.add_block(gx_curr2, adc)  # Read one line of k-space out\n",
        "  #  seq2.add_block(gy)  # Phase blip\n",
        "  #  seq2.add_block(gx_currr,adc)\n",
        "  #  seq2.add_block(gy)  # Phase blip\n",
        "  #  seq2.add_block(gx_curr3,adc)\n",
        "  #  seq2.add_block(gy)  # Phase blip\n",
        "  #  seq2.add_block(gx_curr2r, adc)  # Read one line of k-space out\n",
        "  #  seq2.add_block(gy)  # Phase blip\n",
        "  #  seq2.add_block(gx_curr, adc)  # Read one line of k-space out\n",
        "  #  seq2.add_block(gy)  # Phase blip\n",
        "  #  seq2.add_block(gx_curr3r,adc)\n",
        "  #  seq2.add_block(gy)  # Phase blip\n",
        "\n",
        "seq = mr.Sequence(system)  # Create a new sequence object\n",
        "Ny_2 = int(Ny/2)\n",
        "\n",
        "# populate the sequence object with event blocks\n",
        "for s in range(n_slices):\n",
        "  rf.freq_offset = gz.amplitude * slice_thickness * (s - (n_slices - 1) / 2)\n",
        "  seq.add_block(rf, gz)\n",
        "  seq.add_block(gx_pre, gy_pre, gz_reph)\n",
        "  gx_curr=gx\n",
        "\n",
        "  for i in range(Ny):\n",
        "    seq.add_block(gx_curr, adc)  # Read one line of k-space out\n",
        "    if i!=Ny-1:\n",
        "      seq.add_block(gy)  # Phase blip\n",
        "      gx_curr = mr.scale_grad(gx_curr,-1)  # Reverse polarity of read gradient\n"
      ],
      "metadata": {
        "id": "uHCgYfk5ho6F"
      },
      "execution_count": 116,
      "outputs": []
    },
    {
      "cell_type": "markdown",
      "source": [
        "# Timing check\n",
        "Check whether the sequence timing is OK and the objects are consistent and compatible with each other and the target scanner"
      ],
      "metadata": {
        "id": "LBhtotHdqYMh"
      }
    },
    {
      "cell_type": "code",
      "source": [
        "(\n",
        "    ok,\n",
        "    error_report,\n",
        ") = seq.check_timing()  # Check whether the timing of the sequence is correct\n",
        "if ok:\n",
        "    print(\"Timing check passed successfully\")\n",
        "else:\n",
        "    print(\"Timing check failed. Error listing follows:\")\n",
        "    [print(e) for e in error_report]"
      ],
      "metadata": {
        "id": "pTKscy94kAJM",
        "outputId": "6af4fa50-cc68-4ebb-c968-de1628bc0f63",
        "colab": {
          "base_uri": "https://localhost:8080/"
        }
      },
      "execution_count": 117,
      "outputs": [
        {
          "output_type": "stream",
          "name": "stdout",
          "text": [
            "Timing check failed. Error listing follows:\n",
            "Event: 3 - [type: adc delay: 50.00000000000013 us dwell: 18750.0 ns]\n",
            "\n",
            "Event: 5 - [type: adc delay: 50.00000000000013 us dwell: 18750.0 ns]\n",
            "\n",
            "Event: 7 - [type: adc delay: 50.00000000000013 us dwell: 18750.0 ns]\n",
            "\n",
            "Event: 9 - [type: adc delay: 50.00000000000013 us dwell: 18750.0 ns]\n",
            "\n",
            "Event: 11 - [type: adc delay: 50.00000000000013 us dwell: 18750.0 ns]\n",
            "\n",
            "Event: 13 - [type: adc delay: 50.00000000000013 us dwell: 18750.0 ns]\n",
            "\n",
            "Event: 15 - [type: adc delay: 50.00000000000013 us dwell: 18750.0 ns]\n",
            "\n",
            "Event: 17 - [type: adc delay: 50.00000000000013 us dwell: 18750.0 ns]\n",
            "\n",
            "Event: 19 - [type: adc delay: 50.00000000000013 us dwell: 18750.0 ns]\n",
            "\n",
            "Event: 21 - [type: adc delay: 50.00000000000013 us dwell: 18750.0 ns]\n",
            "\n",
            "Event: 23 - [type: adc delay: 50.00000000000013 us dwell: 18750.0 ns]\n",
            "\n",
            "Event: 25 - [type: adc delay: 50.00000000000013 us dwell: 18750.0 ns]\n",
            "\n",
            "Event: 27 - [type: adc delay: 50.00000000000013 us dwell: 18750.0 ns]\n",
            "\n",
            "Event: 29 - [type: adc delay: 50.00000000000013 us dwell: 18750.0 ns]\n",
            "\n",
            "Event: 31 - [type: adc delay: 50.00000000000013 us dwell: 18750.0 ns]\n",
            "\n",
            "Event: 33 - [type: adc delay: 50.00000000000013 us dwell: 18750.0 ns]\n",
            "\n",
            "Event: 35 - [type: adc delay: 50.00000000000013 us dwell: 18750.0 ns]\n",
            "\n",
            "Event: 37 - [type: adc delay: 50.00000000000013 us dwell: 18750.0 ns]\n",
            "\n",
            "Event: 39 - [type: adc delay: 50.00000000000013 us dwell: 18750.0 ns]\n",
            "\n",
            "Event: 41 - [type: adc delay: 50.00000000000013 us dwell: 18750.0 ns]\n",
            "\n",
            "Event: 43 - [type: adc delay: 50.00000000000013 us dwell: 18750.0 ns]\n",
            "\n",
            "Event: 45 - [type: adc delay: 50.00000000000013 us dwell: 18750.0 ns]\n",
            "\n",
            "Event: 47 - [type: adc delay: 50.00000000000013 us dwell: 18750.0 ns]\n",
            "\n",
            "Event: 49 - [type: adc delay: 50.00000000000013 us dwell: 18750.0 ns]\n",
            "\n",
            "Event: 51 - [type: adc delay: 50.00000000000013 us dwell: 18750.0 ns]\n",
            "\n",
            "Event: 53 - [type: adc delay: 50.00000000000013 us dwell: 18750.0 ns]\n",
            "\n",
            "Event: 55 - [type: adc delay: 50.00000000000013 us dwell: 18750.0 ns]\n",
            "\n",
            "Event: 57 - [type: adc delay: 50.00000000000013 us dwell: 18750.0 ns]\n",
            "\n",
            "Event: 59 - [type: adc delay: 50.00000000000013 us dwell: 18750.0 ns]\n",
            "\n",
            "Event: 61 - [type: adc delay: 50.00000000000013 us dwell: 18750.0 ns]\n",
            "\n",
            "Event: 63 - [type: adc delay: 50.00000000000013 us dwell: 18750.0 ns]\n",
            "\n",
            "Event: 65 - [type: adc delay: 50.00000000000013 us dwell: 18750.0 ns]\n",
            "\n",
            "Event: 67 - [type: adc delay: 50.00000000000013 us dwell: 18750.0 ns]\n",
            "\n",
            "Event: 69 - [type: adc delay: 50.00000000000013 us dwell: 18750.0 ns]\n",
            "\n",
            "Event: 71 - [type: adc delay: 50.00000000000013 us dwell: 18750.0 ns]\n",
            "\n",
            "Event: 73 - [type: adc delay: 50.00000000000013 us dwell: 18750.0 ns]\n",
            "\n",
            "Event: 75 - [type: adc delay: 50.00000000000013 us dwell: 18750.0 ns]\n",
            "\n",
            "Event: 77 - [type: adc delay: 50.00000000000013 us dwell: 18750.0 ns]\n",
            "\n",
            "Event: 79 - [type: adc delay: 50.00000000000013 us dwell: 18750.0 ns]\n",
            "\n",
            "Event: 81 - [type: adc delay: 50.00000000000013 us dwell: 18750.0 ns]\n",
            "\n",
            "Event: 83 - [type: adc delay: 50.00000000000013 us dwell: 18750.0 ns]\n",
            "\n",
            "Event: 85 - [type: adc delay: 50.00000000000013 us dwell: 18750.0 ns]\n",
            "\n",
            "Event: 87 - [type: adc delay: 50.00000000000013 us dwell: 18750.0 ns]\n",
            "\n",
            "Event: 89 - [type: adc delay: 50.00000000000013 us dwell: 18750.0 ns]\n",
            "\n",
            "Event: 91 - [type: adc delay: 50.00000000000013 us dwell: 18750.0 ns]\n",
            "\n",
            "Event: 93 - [type: adc delay: 50.00000000000013 us dwell: 18750.0 ns]\n",
            "\n",
            "Event: 95 - [type: adc delay: 50.00000000000013 us dwell: 18750.0 ns]\n",
            "\n",
            "Event: 97 - [type: adc delay: 50.00000000000013 us dwell: 18750.0 ns]\n",
            "\n",
            "Event: 99 - [type: adc delay: 50.00000000000013 us dwell: 18750.0 ns]\n",
            "\n",
            "Event: 101 - [type: adc delay: 50.00000000000013 us dwell: 18750.0 ns]\n",
            "\n",
            "Event: 103 - [type: adc delay: 50.00000000000013 us dwell: 18750.0 ns]\n",
            "\n",
            "Event: 105 - [type: adc delay: 50.00000000000013 us dwell: 18750.0 ns]\n",
            "\n",
            "Event: 107 - [type: adc delay: 50.00000000000013 us dwell: 18750.0 ns]\n",
            "\n",
            "Event: 109 - [type: adc delay: 50.00000000000013 us dwell: 18750.0 ns]\n",
            "\n",
            "Event: 111 - [type: adc delay: 50.00000000000013 us dwell: 18750.0 ns]\n",
            "\n",
            "Event: 113 - [type: adc delay: 50.00000000000013 us dwell: 18750.0 ns]\n",
            "\n",
            "Event: 115 - [type: adc delay: 50.00000000000013 us dwell: 18750.0 ns]\n",
            "\n",
            "Event: 117 - [type: adc delay: 50.00000000000013 us dwell: 18750.0 ns]\n",
            "\n",
            "Event: 119 - [type: adc delay: 50.00000000000013 us dwell: 18750.0 ns]\n",
            "\n",
            "Event: 121 - [type: adc delay: 50.00000000000013 us dwell: 18750.0 ns]\n",
            "\n",
            "Event: 123 - [type: adc delay: 50.00000000000013 us dwell: 18750.0 ns]\n",
            "\n",
            "Event: 125 - [type: adc delay: 50.00000000000013 us dwell: 18750.0 ns]\n",
            "\n",
            "Event: 127 - [type: adc delay: 50.00000000000013 us dwell: 18750.0 ns]\n",
            "\n",
            "Event: 129 - [type: adc delay: 50.00000000000013 us dwell: 18750.0 ns]\n",
            "\n"
          ]
        }
      ]
    },
    {
      "cell_type": "markdown",
      "source": [
        "# Visualize the sequence\n",
        "Here we just plot the sequence timing. Due to the limitations of the Colab environment the plots are not live, no interactive zoom-in / zoom-out is possible, therefore it is necessary to use the time_range option"
      ],
      "metadata": {
        "id": "kmNXMnPjq6qn"
      }
    },
    {
      "cell_type": "code",
      "source": [
        "#if plot:\n",
        "#  print(\"Plot the beginning of the sequence\")\n",
        "#  #seq.plot(time_range=[0, 5.22e-3], time_disp=\"us\", show_blocks=True) # just a small initial part\n",
        "#  seq.plot(time_range=[0, 8e-3], time_disp=\"ms\")\n",
        "#\n",
        "#  #\n",
        "#  print(\"Plot of the entire sequence\")\n",
        "#  seq.plot() # plot the entire sequence"
      ],
      "metadata": {
        "id": "dQWyYL5LkeGq"
      },
      "execution_count": 118,
      "outputs": []
    },
    {
      "cell_type": "code",
      "source": [
        "[k_traj_adc, k_traj, t_excitation, t_refocusing, t_adc] = seq.calculate_kspace()\n",
        "plt.figure(figsize=(10, 10))\n",
        "plt.plot(k_traj[0,],k_traj[1,], 'b-')\n",
        "plt.plot(k_traj_adc[0,],k_traj_adc[1,], 'r.')\n",
        "ax = plt.gca()\n",
        "ax.set_aspect('equal', adjustable='box')\n",
        "plt.title('k-space trajectory')\n",
        "plt.xlabel(r'$k_x \\mathregular{\\ /m^{-1}}$')\n",
        "plt.ylabel(r'$k_y \\mathregular{\\ /m^{-1}}$')\n",
        "plt.draw()"
      ],
      "metadata": {
        "colab": {
          "base_uri": "https://localhost:8080/",
          "height": 841
        },
        "id": "WLTTZCHy5nIg",
        "outputId": "b076c630-08fb-4ed1-8a70-5205e063bc57"
      },
      "execution_count": 119,
      "outputs": [
        {
          "output_type": "display_data",
          "data": {
            "text/plain": [
              "<Figure size 1000x1000 with 1 Axes>"
            ],
            "image/png": "[encoded data removed]"
          },
          "metadata": {}
        }
      ]
    },
    {
      "cell_type": "markdown",
      "source": [
        "# (Optionally) Analyze the sequence\n",
        "Very optional slow step, but useful for testing during development\n",
        "e.g. for the real TE, TR or for staying within slew-rate limits, etc."
      ],
      "metadata": {
        "id": "Vk4JivIbnz_1"
      }
    },
    {
      "cell_type": "code",
      "source": [
        "rep = seq.test_report()\n",
        "print(rep)"
      ],
      "metadata": {
        "colab": {
          "base_uri": "https://localhost:8080/"
        },
        "id": "J0JeFpP773gS",
        "outputId": "309cc159-35e0-4e2f-c8a3-8c03aeb83854"
      },
      "execution_count": 120,
      "outputs": [
        {
          "output_type": "stream",
          "name": "stdout",
          "text": [
            "Number of blocks: 129\n",
            "Number of events:\n",
            "RF:      1\n",
            "Gx:     65\n",
            "Gy:     64\n",
            "Gz:      2\n",
            "ADC:     64\n",
            "Delay:      0\n",
            "Sequence duration: 0.090290 s\n",
            "TE: 0.044770 s\n",
            "TR: 0.090290 s\n",
            "Flip angle: 90.00 deg\n",
            "Unique k-space positions (aka cols, rows, etc.): 64 64 \n",
            "Dimensions: 2\n",
            "Spatial resolution: 3.49 mm\n",
            "Spatial resolution: 3.44 mm\n",
            "Repetitions/slices/contrasts: 1.0; range: [(1.0, 1.0)]\n",
            "Cartesian encoding trajectory detected\n",
            "Event timing check failed. Error listing follows:\n",
            " ['Event: 3 - [type: adc delay: 50.00000000000013 us dwell: 18750.0 ns]\\n', 'Event: 5 - [type: adc delay: 50.00000000000013 us dwell: 18750.0 ns]\\n', 'Event: 7 - [type: adc delay: 50.00000000000013 us dwell: 18750.0 ns]\\n', 'Event: 9 - [type: adc delay: 50.00000000000013 us dwell: 18750.0 ns]\\n', 'Event: 11 - [type: adc delay: 50.00000000000013 us dwell: 18750.0 ns]\\n', 'Event: 13 - [type: adc delay: 50.00000000000013 us dwell: 18750.0 ns]\\n', 'Event: 15 - [type: adc delay: 50.00000000000013 us dwell: 18750.0 ns]\\n', 'Event: 17 - [type: adc delay: 50.00000000000013 us dwell: 18750.0 ns]\\n', 'Event: 19 - [type: adc delay: 50.00000000000013 us dwell: 18750.0 ns]\\n', 'Event: 21 - [type: adc delay: 50.00000000000013 us dwell: 18750.0 ns]\\n', 'Event: 23 - [type: adc delay: 50.00000000000013 us dwell: 18750.0 ns]\\n', 'Event: 25 - [type: adc delay: 50.00000000000013 us dwell: 18750.0 ns]\\n', 'Event: 27 - [type: adc delay: 50.00000000000013 us dwell: 18750.0 ns]\\n', 'Event: 29 - [type: adc delay: 50.00000000000013 us dwell: 18750.0 ns]\\n', 'Event: 31 - [type: adc delay: 50.00000000000013 us dwell: 18750.0 ns]\\n', 'Event: 33 - [type: adc delay: 50.00000000000013 us dwell: 18750.0 ns]\\n', 'Event: 35 - [type: adc delay: 50.00000000000013 us dwell: 18750.0 ns]\\n', 'Event: 37 - [type: adc delay: 50.00000000000013 us dwell: 18750.0 ns]\\n', 'Event: 39 - [type: adc delay: 50.00000000000013 us dwell: 18750.0 ns]\\n', 'Event: 41 - [type: adc delay: 50.00000000000013 us dwell: 18750.0 ns]\\n', 'Event: 43 - [type: adc delay: 50.00000000000013 us dwell: 18750.0 ns]\\n', 'Event: 45 - [type: adc delay: 50.00000000000013 us dwell: 18750.0 ns]\\n', 'Event: 47 - [type: adc delay: 50.00000000000013 us dwell: 18750.0 ns]\\n', 'Event: 49 - [type: adc delay: 50.00000000000013 us dwell: 18750.0 ns]\\n', 'Event: 51 - [type: adc delay: 50.00000000000013 us dwell: 18750.0 ns]\\n', 'Event: 53 - [type: adc delay: 50.00000000000013 us dwell: 18750.0 ns]\\n', 'Event: 55 - [type: adc delay: 50.00000000000013 us dwell: 18750.0 ns]\\n', 'Event: 57 - [type: adc delay: 50.00000000000013 us dwell: 18750.0 ns]\\n', 'Event: 59 - [type: adc delay: 50.00000000000013 us dwell: 18750.0 ns]\\n', 'Event: 61 - [type: adc delay: 50.00000000000013 us dwell: 18750.0 ns]\\n', 'Event: 63 - [type: adc delay: 50.00000000000013 us dwell: 18750.0 ns]\\n', 'Event: 65 - [type: adc delay: 50.00000000000013 us dwell: 18750.0 ns]\\n', 'Event: 67 - [type: adc delay: 50.00000000000013 us dwell: 18750.0 ns]\\n', 'Event: 69 - [type: adc delay: 50.00000000000013 us dwell: 18750.0 ns]\\n', 'Event: 71 - [type: adc delay: 50.00000000000013 us dwell: 18750.0 ns]\\n', 'Event: 73 - [type: adc delay: 50.00000000000013 us dwell: 18750.0 ns]\\n', 'Event: 75 - [type: adc delay: 50.00000000000013 us dwell: 18750.0 ns]\\n', 'Event: 77 - [type: adc delay: 50.00000000000013 us dwell: 18750.0 ns]\\n', 'Event: 79 - [type: adc delay: 50.00000000000013 us dwell: 18750.0 ns]\\n', 'Event: 81 - [type: adc delay: 50.00000000000013 us dwell: 18750.0 ns]\\n', 'Event: 83 - [type: adc delay: 50.00000000000013 us dwell: 18750.0 ns]\\n', 'Event: 85 - [type: adc delay: 50.00000000000013 us dwell: 18750.0 ns]\\n', 'Event: 87 - [type: adc delay: 50.00000000000013 us dwell: 18750.0 ns]\\n', 'Event: 89 - [type: adc delay: 50.00000000000013 us dwell: 18750.0 ns]\\n', 'Event: 91 - [type: adc delay: 50.00000000000013 us dwell: 18750.0 ns]\\n', 'Event: 93 - [type: adc delay: 50.00000000000013 us dwell: 18750.0 ns]\\n', 'Event: 95 - [type: adc delay: 50.00000000000013 us dwell: 18750.0 ns]\\n', 'Event: 97 - [type: adc delay: 50.00000000000013 us dwell: 18750.0 ns]\\n', 'Event: 99 - [type: adc delay: 50.00000000000013 us dwell: 18750.0 ns]\\n', 'Event: 101 - [type: adc delay: 50.00000000000013 us dwell: 18750.0 ns]\\n', 'Event: 103 - [type: adc delay: 50.00000000000013 us dwell: 18750.0 ns]\\n', 'Event: 105 - [type: adc delay: 50.00000000000013 us dwell: 18750.0 ns]\\n', 'Event: 107 - [type: adc delay: 50.00000000000013 us dwell: 18750.0 ns]\\n', 'Event: 109 - [type: adc delay: 50.00000000000013 us dwell: 18750.0 ns]\\n', 'Event: 111 - [type: adc delay: 50.00000000000013 us dwell: 18750.0 ns]\\n', 'Event: 113 - [type: adc delay: 50.00000000000013 us dwell: 18750.0 ns]\\n', 'Event: 115 - [type: adc delay: 50.00000000000013 us dwell: 18750.0 ns]\\n', 'Event: 117 - [type: adc delay: 50.00000000000013 us dwell: 18750.0 ns]\\n', 'Event: 119 - [type: adc delay: 50.00000000000013 us dwell: 18750.0 ns]\\n', 'Event: 121 - [type: adc delay: 50.00000000000013 us dwell: 18750.0 ns]\\n', 'Event: 123 - [type: adc delay: 50.00000000000013 us dwell: 18750.0 ns]\\n', 'Event: 125 - [type: adc delay: 50.00000000000013 us dwell: 18750.0 ns]\\n', 'Event: 127 - [type: adc delay: 50.00000000000013 us dwell: 18750.0 ns]\\n', 'Event: 129 - [type: adc delay: 50.00000000000013 us dwell: 18750.0 ns]\\n']Max gradient: 329381 299807 1357895 Hz/m == 7.74 7.04 31.89 mT/m\n",
            "Max slew rate: 4848484848 5050505051 5431578947 Hz/m/s == 113.88 118.62 127.57 T/m/s\n",
            "Max absolute gradient: 1429074 Hz/m == 33.57 mT/m\n",
            "Max absolute slew rate: 6.06359e+09 Hz/m/s == 142.42 T/m/s\n"
          ]
        }
      ]
    },
    {
      "cell_type": "markdown",
      "source": [
        "#Write the .seq file\n",
        "\n",
        "Set the output parameters (definitions) and write the sequence to the file.\n",
        "\n",
        "*Note: The FOV definition is also used by the simulation/reconstruction code below*"
      ],
      "metadata": {
        "id": "iARu27z-nn6B"
      }
    },
    {
      "cell_type": "code",
      "source": [
        "# Prepare the sequence output for the scanner\n",
        "seq.set_definition(key=\"FOV\", value=[fov, fov, slice_thickness*n_slices])\n",
        "seq.set_definition(key=\"Name\", value=\"epi\")\n",
        "#\n",
        "#if write_seq:\n",
        "#  # Write the sequence file\n",
        "#  seq.write(seq_filename)\n",
        "#  from google.colab import files\n",
        "#  files.download(seq_filename)  # Download locally"
      ],
      "metadata": {
        "id": "qnfYzw-Pzx2H"
      },
      "execution_count": 121,
      "outputs": []
    },
    {
      "cell_type": "markdown",
      "source": [
        "#Animate trajectory"
      ],
      "metadata": {
        "id": "gqVCYCHYdfZs"
      }
    },
    {
      "cell_type": "code",
      "source": [
        "#if animate_seq:\n",
        "#  ani = animate(seq, show=False, dt=1e-3, fps=5, show_progress=True) # additional paremeter: time_range=[start, end]\n",
        "#  from IPython.display import HTML\n",
        "#  display(HTML(ani.to_html5_video()))"
      ],
      "metadata": {
        "id": "SoNtyRAEbq-F"
      },
      "execution_count": 122,
      "outputs": []
    },
    {
      "cell_type": "markdown",
      "source": [
        "**Run MR-zero simulation**\n",
        "\n",
        "The code below simulates the whole sequence, and shows the magnitude of the raw k-space profiles."
      ],
      "metadata": {
        "id": "zZJonpjrzHga"
      }
    },
    {
      "cell_type": "code",
      "source": [
        "if simulate:\n",
        "  # Simulate sequence\n",
        "  kdata = simulate_2d(seq, sim_size=[Nx*2,Ny*2], noise_level=0, n_coils=1) # B0_polynomial=[...] optional parameter: B0_offset, Gx, Gy, x^2, y^2, x*y; units??? good value 200\n",
        "  kdata2 = simulate_2d(seq2, sim_size=[Nx*2,Ny*2], noise_level=0, n_coils=1)\n",
        "\n",
        "  # Display raw data profiles\n",
        "  plt.figure()\n",
        "  plt.imshow(abs(kdata[0].reshape(-1,adc.num_samples)))\n",
        "  plt.title('Magnitude of acquired raw data'); # raw data, not k-space data (odd/even lines not reverted)\n",
        "\n",
        "  # Display the data more correctly\n",
        "  kdata_swapped=np.zeros_like(kdata)\n",
        "  kdata_swapped[:,0::2,:]=kdata[:,0::2,:]\n",
        "  kdata_swapped[:,1::2,:]=kdata[:,1::2,::-1]\n",
        "  plt.figure()\n",
        "  plt.imshow(abs(kdata_swapped[0].reshape(-1,adc.num_samples)))\n",
        "  plt.title('Magnitude of k-space data (odd lines swapped)'); # raw data, not k-space data (odd/even lines not reverted)\n"
      ],
      "metadata": {
        "colab": {
          "base_uri": "https://localhost:8080/",
          "height": 922
        },
        "id": "hLoKdmAhbdvM",
        "outputId": "d9efc88c-f6a2-4a01-9f6e-45c9d6ae8d10"
      },
      "execution_count": 123,
      "outputs": [
        {
          "output_type": "stream",
          "name": "stdout",
          "text": [
            "Calculating repetition 1 / 1 - done\n",
            "Calculating repetition 1 / 1 - done\n"
          ]
        },
        {
          "output_type": "display_data",
          "data": {
            "text/plain": [
              "<Figure size 640x480 with 1 Axes>"
            ],
            "image/png": "[encoded data removed]"
          },
          "metadata": {}
        },
        {
          "output_type": "display_data",
          "data": {
            "text/plain": [
              "<Figure size 640x480 with 1 Axes>"
            ],
            "image/png": "[encoded data removed]"
          },
          "metadata": {}
        }
      ]
    },
    {
      "cell_type": "markdown",
      "source": [
        "**Reconstruction**"
      ],
      "metadata": {
        "id": "WZZiRMLPb3ul"
      }
    },
    {
      "cell_type": "code",
      "source": [
        "if simulate:\n",
        "  rec = reconstruct(kdata, seq, trajectory_delay=0e-6, cartesian=False) # for the trajectory delay to work with the basic (non-ramp-sampling EPI) cartesian=False is needed\n",
        "  # need to invert data dimentions because the reconstruction code uses iFFT to go from k-space to image space\n",
        "  rec=rec[::-1,::-1]\n",
        "\n",
        "  plt.figure()\n",
        "  plt.imshow(abs(rec), origin='lower')\n",
        "  plt.title('kdata')\n",
        "\n",
        "  rec = reconstruct(kdata2, seq, trajectory_delay=0e-6, cartesian=False) # for the trajectory delay to work with the basic (non-ramp-sampling EPI) cartesian=False is needed\n",
        "  # need to invert data dimentions because the reconstruction code uses iFFT to go from k-space to image space\n",
        "  rec=rec[::-1,::-1]\n",
        "\n",
        "  plt.figure()\n",
        "  plt.imshow(abs(rec), origin='lower')\n",
        "  plt.title('kdata2');\n"
      ],
      "metadata": {
        "colab": {
          "base_uri": "https://localhost:8080/",
          "height": 1000,
          "referenced_widgets": [
            "3102c8ddfaf444fb8d05154c3cd93bfc",
            "ebf8af59c8b946be93a40b719a2c1e7c",
            "a867e4fb060d46bbaf85e0800bd9926a",
            "87278e1f4f8b4a31a7d1c98270ea2f82",
            "5295699f08a1467ea416ac207b3437bc",
            "b19dcd19b5c843b3865e7258c68a0b03",
            "3c6c25393dc84f818950c4c4a9eb82eb",
            "bb101d2fffaa482e985b8fae962de150",
            "73923897166f43deb0a3b71d18280bb4",
            "e8e0017a981b4eb5912f1c67deae470f",
            "afa8165d2b9b4803b0c7f71f447973dc",
            "46c882e2d4d04c768dad2779424adb41",
            "a56c96167f664f25a7c49231574f3776",
            "64d04fe0db4642ccba01a6d10296ca97",
            "bbfbe8ce1e604997b430010697849945",
            "bf953bf2aa824ff1a394ec9e8ad34f30",
            "0811c547aef7402ab1aff92e4d402ae8",
            "3b6f6eb9500d4f0f917551e452e7460b",
            "d99a3946938f404bb2fc9b1a1c23291c",
            "f13dd45fdef541668bf9b0a7a864c71b",
            "b829f1c09f0d496b8c965e1cd847b608",
            "f204746759364c9fba0f29aa8630c266"
          ]
        },
        "id": "zeEk_c0Ob6jE",
        "outputId": "5183098e-92af-4e07-ed57-30805aceb02d"
      },
      "execution_count": 124,
      "outputs": [
        {
          "output_type": "stream",
          "name": "stdout",
          "text": [
            "Automatically detected 2D sequence\n",
            "Automatically detected matrix size: (66, 64)\n"
          ]
        },
        {
          "output_type": "display_data",
          "data": {
            "text/plain": [
              "LinearLeastSquares:   0%|          | 0/10 [00:00<?, ?it/s]"
            ],
            "application/vnd.jupyter.widget-view+json": {
              "version_major": 2,
              "version_minor": 0,
              "model_id": "3102c8ddfaf444fb8d05154c3cd93bfc"
            }
          },
          "metadata": {}
        },
        {
          "output_type": "stream",
          "name": "stdout",
          "text": [
            "Automatically detected 2D sequence\n",
            "Automatically detected matrix size: (66, 64)\n"
          ]
        },
        {
          "output_type": "display_data",
          "data": {
            "text/plain": [
              "LinearLeastSquares:   0%|          | 0/10 [00:00<?, ?it/s]"
            ],
            "application/vnd.jupyter.widget-view+json": {
              "version_major": 2,
              "version_minor": 0,
              "model_id": "46c882e2d4d04c768dad2779424adb41"
            }
          },
          "metadata": {}
        },
        {
          "output_type": "display_data",
          "data": {
            "text/plain": [
              "<Figure size 640x480 with 1 Axes>"
            ],
            "image/png": "[encoded data removed]"
          },
          "metadata": {}
        },
        {
          "output_type": "display_data",
          "data": {
            "text/plain": [
              "<Figure size 640x480 with 1 Axes>"
            ],
            "image/png": "[encoded data removed]"
          },
          "metadata": {}
        }
      ]
    },
    {
      "cell_type": "markdown",
      "source": [
        "# Exercises (getting familiar with EPI)\n",
        "* **Familiarize yourself with the sequence**: find parameters to control FOV, spatial resolution, slice number and thickness, and readout bandwidth.\n",
        "* **Implement an additional option for suppressing / inverting phase encoding**: one posibility is to add a switch `pe_switch` or similar variable to the \"high-level sequence parameters\" section taking values of (1,0,-1) and implement necessary code alternations. Known limitation of the code: the the image reconstruction will crash without phase encoding.\n",
        "* **Experiment with B0_polynomial and pe_switch**, modify echo spacing by testing various values of `ro_duration` and visualize geometric distortions. Enhance distordion appearence by inverting the PE sign. `B0_polynomial` is an optional parameter to the `simulate_2d()` call and can be specified as `B0_polynomial=[0,0,0,0,0,0]`. The later setting will also reset the default (measured) B0 field map provided with the phantom data set. Setting any of the values in the array to non-zeros will induce corresponding spatial field term, see the comment to the `simulate_2d()` call.  \n",
        "* **Check yourself**\n",
        "  1. What is the native Pulseq unit for the gradient strength?\n",
        "  2. Can you read the current spatial resolution from the k-space plot?\n",
        "  3. What is the Pulseq native unit for the RF amplitude?\n",
        "  4. Why certain combinations of matrix size and readout duration are not possible?\n"
      ],
      "metadata": {
        "id": "f1q5xIpisA89"
      }
    }
  ],
  "metadata": {
    "colab": {
      "provenance": [],
      "include_colab_link": true
    },
    "kernelspec": {
      "display_name": "Python 3",
      "name": "python3"
    },
    "widgets": {
      "application/vnd.jupyter.widget-state+json": {
        "3102c8ddfaf444fb8d05154c3cd93bfc": {
          "model_module": "@jupyter-widgets/controls",
          "model_name": "HBoxModel",
          "model_module_version": "1.5.0",
          "state": {
            "_dom_classes": [],
            "_model_module": "@jupyter-widgets/controls",
            "_model_module_version": "1.5.0",
            "_model_name": "HBoxModel",
            "_view_count": null,
            "_view_module": "@jupyter-widgets/controls",
            "_view_module_version": "1.5.0",
            "_view_name": "HBoxView",
            "box_style": "",
            "children": [
              "IPY_MODEL_ebf8af59c8b946be93a40b719a2c1e7c",
              "IPY_MODEL_a867e4fb060d46bbaf85e0800bd9926a",
              "IPY_MODEL_87278e1f4f8b4a31a7d1c98270ea2f82"
            ],
            "layout": "IPY_MODEL_5295699f08a1467ea416ac207b3437bc"
          }
        },
        "ebf8af59c8b946be93a40b719a2c1e7c": {
          "model_module": "@jupyter-widgets/controls",
          "model_name": "HTMLModel",
          "model_module_version": "1.5.0",
          "state": {
            "_dom_classes": [],
            "_model_module": "@jupyter-widgets/controls",
            "_model_module_version": "1.5.0",
            "_model_name": "HTMLModel",
            "_view_count": null,
            "_view_module": "@jupyter-widgets/controls",
            "_view_module_version": "1.5.0",
            "_view_name": "HTMLView",
            "description": "",
            "description_tooltip": null,
            "layout": "IPY_MODEL_b19dcd19b5c843b3865e7258c68a0b03",
            "placeholder": "​",
            "style": "IPY_MODEL_3c6c25393dc84f818950c4c4a9eb82eb",
            "value": "LinearLeastSquares: 100%"
          }
        },
        "a867e4fb060d46bbaf85e0800bd9926a": {
          "model_module": "@jupyter-widgets/controls",
          "model_name": "FloatProgressModel",
          "model_module_version": "1.5.0",
          "state": {
            "_dom_classes": [],
            "_model_module": "@jupyter-widgets/controls",
            "_model_module_version": "1.5.0",
            "_model_name": "FloatProgressModel",
            "_view_count": null,
            "_view_module": "@jupyter-widgets/controls",
            "_view_module_version": "1.5.0",
            "_view_name": "ProgressView",
            "bar_style": "success",
            "description": "",
            "description_tooltip": null,
            "layout": "IPY_MODEL_bb101d2fffaa482e985b8fae962de150",
            "max": 10,
            "min": 0,
            "orientation": "horizontal",
            "style": "IPY_MODEL_73923897166f43deb0a3b71d18280bb4",
            "value": 10
          }
        },
        "87278e1f4f8b4a31a7d1c98270ea2f82": {
          "model_module": "@jupyter-widgets/controls",
          "model_name": "HTMLModel",
          "model_module_version": "1.5.0",
          "state": {
            "_dom_classes": [],
            "_model_module": "@jupyter-widgets/controls",
            "_model_module_version": "1.5.0",
            "_model_name": "HTMLModel",
            "_view_count": null,
            "_view_module": "@jupyter-widgets/controls",
            "_view_module_version": "1.5.0",
            "_view_name": "HTMLView",
            "description": "",
            "description_tooltip": null,
            "layout": "IPY_MODEL_e8e0017a981b4eb5912f1c67deae470f",
            "placeholder": "​",
            "style": "IPY_MODEL_afa8165d2b9b4803b0c7f71f447973dc",
            "value": " 10/10 [00:00&lt;00:00, 13.80it/s, resid=2.71E-13]"
          }
        },
        "5295699f08a1467ea416ac207b3437bc": {
          "model_module": "@jupyter-widgets/base",
          "model_name": "LayoutModel",
          "model_module_version": "1.2.0",
          "state": {
            "_model_module": "@jupyter-widgets/base",
            "_model_module_version": "1.2.0",
            "_model_name": "LayoutModel",
            "_view_count": null,
            "_view_module": "@jupyter-widgets/base",
            "_view_module_version": "1.2.0",
            "_view_name": "LayoutView",
            "align_content": null,
            "align_items": null,
            "align_self": null,
            "border": null,
            "bottom": null,
            "display": null,
            "flex": null,
            "flex_flow": null,
            "grid_area": null,
            "grid_auto_columns": null,
            "grid_auto_flow": null,
            "grid_auto_rows": null,
            "grid_column": null,
            "grid_gap": null,
            "grid_row": null,
            "grid_template_areas": null,
            "grid_template_columns": null,
            "grid_template_rows": null,
            "height": null,
            "justify_content": null,
            "justify_items": null,
            "left": null,
            "margin": null,
            "max_height": null,
            "max_width": null,
            "min_height": null,
            "min_width": null,
            "object_fit": null,
            "object_position": null,
            "order": null,
            "overflow": null,
            "overflow_x": null,
            "overflow_y": null,
            "padding": null,
            "right": null,
            "top": null,
            "visibility": null,
            "width": null
          }
        },
        "b19dcd19b5c843b3865e7258c68a0b03": {
          "model_module": "@jupyter-widgets/base",
          "model_name": "LayoutModel",
          "model_module_version": "1.2.0",
          "state": {
            "_model_module": "@jupyter-widgets/base",
            "_model_module_version": "1.2.0",
            "_model_name": "LayoutModel",
            "_view_count": null,
            "_view_module": "@jupyter-widgets/base",
            "_view_module_version": "1.2.0",
            "_view_name": "LayoutView",
            "align_content": null,
            "align_items": null,
            "align_self": null,
            "border": null,
            "bottom": null,
            "display": null,
            "flex": null,
            "flex_flow": null,
            "grid_area": null,
            "grid_auto_columns": null,
            "grid_auto_flow": null,
            "grid_auto_rows": null,
            "grid_column": null,
            "grid_gap": null,
            "grid_row": null,
            "grid_template_areas": null,
            "grid_template_columns": null,
            "grid_template_rows": null,
            "height": null,
            "justify_content": null,
            "justify_items": null,
            "left": null,
            "margin": null,
            "max_height": null,
            "max_width": null,
            "min_height": null,
            "min_width": null,
            "object_fit": null,
            "object_position": null,
            "order": null,
            "overflow": null,
            "overflow_x": null,
            "overflow_y": null,
            "padding": null,
            "right": null,
            "top": null,
            "visibility": null,
            "width": null
          }
        },
        "3c6c25393dc84f818950c4c4a9eb82eb": {
          "model_module": "@jupyter-widgets/controls",
          "model_name": "DescriptionStyleModel",
          "model_module_version": "1.5.0",
          "state": {
            "_model_module": "@jupyter-widgets/controls",
            "_model_module_version": "1.5.0",
            "_model_name": "DescriptionStyleModel",
            "_view_count": null,
            "_view_module": "@jupyter-widgets/base",
            "_view_module_version": "1.2.0",
            "_view_name": "StyleView",
            "description_width": ""
          }
        },
        "bb101d2fffaa482e985b8fae962de150": {
          "model_module": "@jupyter-widgets/base",
          "model_name": "LayoutModel",
          "model_module_version": "1.2.0",
          "state": {
            "_model_module": "@jupyter-widgets/base",
            "_model_module_version": "1.2.0",
            "_model_name": "LayoutModel",
            "_view_count": null,
            "_view_module": "@jupyter-widgets/base",
            "_view_module_version": "1.2.0",
            "_view_name": "LayoutView",
            "align_content": null,
            "align_items": null,
            "align_self": null,
            "border": null,
            "bottom": null,
            "display": null,
            "flex": null,
            "flex_flow": null,
            "grid_area": null,
            "grid_auto_columns": null,
            "grid_auto_flow": null,
            "grid_auto_rows": null,
            "grid_column": null,
            "grid_gap": null,
            "grid_row": null,
            "grid_template_areas": null,
            "grid_template_columns": null,
            "grid_template_rows": null,
            "height": null,
            "justify_content": null,
            "justify_items": null,
            "left": null,
            "margin": null,
            "max_height": null,
            "max_width": null,
            "min_height": null,
            "min_width": null,
            "object_fit": null,
            "object_position": null,
            "order": null,
            "overflow": null,
            "overflow_x": null,
            "overflow_y": null,
            "padding": null,
            "right": null,
            "top": null,
            "visibility": null,
            "width": null
          }
        },
        "73923897166f43deb0a3b71d18280bb4": {
          "model_module": "@jupyter-widgets/controls",
          "model_name": "ProgressStyleModel",
          "model_module_version": "1.5.0",
          "state": {
            "_model_module": "@jupyter-widgets/controls",
            "_model_module_version": "1.5.0",
            "_model_name": "ProgressStyleModel",
            "_view_count": null,
            "_view_module": "@jupyter-widgets/base",
            "_view_module_version": "1.2.0",
            "_view_name": "StyleView",
            "bar_color": null,
            "description_width": ""
          }
        },
        "e8e0017a981b4eb5912f1c67deae470f": {
          "model_module": "@jupyter-widgets/base",
          "model_name": "LayoutModel",
          "model_module_version": "1.2.0",
          "state": {
            "_model_module": "@jupyter-widgets/base",
            "_model_module_version": "1.2.0",
            "_model_name": "LayoutModel",
            "_view_count": null,
            "_view_module": "@jupyter-widgets/base",
            "_view_module_version": "1.2.0",
            "_view_name": "LayoutView",
            "align_content": null,
            "align_items": null,
            "align_self": null,
            "border": null,
            "bottom": null,
            "display": null,
            "flex": null,
            "flex_flow": null,
            "grid_area": null,
            "grid_auto_columns": null,
            "grid_auto_flow": null,
            "grid_auto_rows": null,
            "grid_column": null,
            "grid_gap": null,
            "grid_row": null,
            "grid_template_areas": null,
            "grid_template_columns": null,
            "grid_template_rows": null,
            "height": null,
            "justify_content": null,
            "justify_items": null,
            "left": null,
            "margin": null,
            "max_height": null,
            "max_width": null,
            "min_height": null,
            "min_width": null,
            "object_fit": null,
            "object_position": null,
            "order": null,
            "overflow": null,
            "overflow_x": null,
            "overflow_y": null,
            "padding": null,
            "right": null,
            "top": null,
            "visibility": null,
            "width": null
          }
        },
        "afa8165d2b9b4803b0c7f71f447973dc": {
          "model_module": "@jupyter-widgets/controls",
          "model_name": "DescriptionStyleModel",
          "model_module_version": "1.5.0",
          "state": {
            "_model_module": "@jupyter-widgets/controls",
            "_model_module_version": "1.5.0",
            "_model_name": "DescriptionStyleModel",
            "_view_count": null,
            "_view_module": "@jupyter-widgets/base",
            "_view_module_version": "1.2.0",
            "_view_name": "StyleView",
            "description_width": ""
          }
        },
        "46c882e2d4d04c768dad2779424adb41": {
          "model_module": "@jupyter-widgets/controls",
          "model_name": "HBoxModel",
          "model_module_version": "1.5.0",
          "state": {
            "_dom_classes": [],
            "_model_module": "@jupyter-widgets/controls",
            "_model_module_version": "1.5.0",
            "_model_name": "HBoxModel",
            "_view_count": null,
            "_view_module": "@jupyter-widgets/controls",
            "_view_module_version": "1.5.0",
            "_view_name": "HBoxView",
            "box_style": "",
            "children": [
              "IPY_MODEL_a56c96167f664f25a7c49231574f3776",
              "IPY_MODEL_64d04fe0db4642ccba01a6d10296ca97",
              "IPY_MODEL_bbfbe8ce1e604997b430010697849945"
            ],
            "layout": "IPY_MODEL_bf953bf2aa824ff1a394ec9e8ad34f30"
          }
        },
        "a56c96167f664f25a7c49231574f3776": {
          "model_module": "@jupyter-widgets/controls",
          "model_name": "HTMLModel",
          "model_module_version": "1.5.0",
          "state": {
            "_dom_classes": [],
            "_model_module": "@jupyter-widgets/controls",
            "_model_module_version": "1.5.0",
            "_model_name": "HTMLModel",
            "_view_count": null,
            "_view_module": "@jupyter-widgets/controls",
            "_view_module_version": "1.5.0",
            "_view_name": "HTMLView",
            "description": "",
            "description_tooltip": null,
            "layout": "IPY_MODEL_0811c547aef7402ab1aff92e4d402ae8",
            "placeholder": "​",
            "style": "IPY_MODEL_3b6f6eb9500d4f0f917551e452e7460b",
            "value": "LinearLeastSquares: 100%"
          }
        },
        "64d04fe0db4642ccba01a6d10296ca97": {
          "model_module": "@jupyter-widgets/controls",
          "model_name": "FloatProgressModel",
          "model_module_version": "1.5.0",
          "state": {
            "_dom_classes": [],
            "_model_module": "@jupyter-widgets/controls",
            "_model_module_version": "1.5.0",
            "_model_name": "FloatProgressModel",
            "_view_count": null,
            "_view_module": "@jupyter-widgets/controls",
            "_view_module_version": "1.5.0",
            "_view_name": "ProgressView",
            "bar_style": "success",
            "description": "",
            "description_tooltip": null,
            "layout": "IPY_MODEL_d99a3946938f404bb2fc9b1a1c23291c",
            "max": 10,
            "min": 0,
            "orientation": "horizontal",
            "style": "IPY_MODEL_f13dd45fdef541668bf9b0a7a864c71b",
            "value": 10
          }
        },
        "bbfbe8ce1e604997b430010697849945": {
          "model_module": "@jupyter-widgets/controls",
          "model_name": "HTMLModel",
          "model_module_version": "1.5.0",
          "state": {
            "_dom_classes": [],
            "_model_module": "@jupyter-widgets/controls",
            "_model_module_version": "1.5.0",
            "_model_name": "HTMLModel",
            "_view_count": null,
            "_view_module": "@jupyter-widgets/controls",
            "_view_module_version": "1.5.0",
            "_view_name": "HTMLView",
            "description": "",
            "description_tooltip": null,
            "layout": "IPY_MODEL_b829f1c09f0d496b8c965e1cd847b608",
            "placeholder": "​",
            "style": "IPY_MODEL_f204746759364c9fba0f29aa8630c266",
            "value": " 10/10 [00:00&lt;00:00, 13.02it/s, resid=3.43E-13]"
          }
        },
        "bf953bf2aa824ff1a394ec9e8ad34f30": {
          "model_module": "@jupyter-widgets/base",
          "model_name": "LayoutModel",
          "model_module_version": "1.2.0",
          "state": {
            "_model_module": "@jupyter-widgets/base",
            "_model_module_version": "1.2.0",
            "_model_name": "LayoutModel",
            "_view_count": null,
            "_view_module": "@jupyter-widgets/base",
            "_view_module_version": "1.2.0",
            "_view_name": "LayoutView",
            "align_content": null,
            "align_items": null,
            "align_self": null,
            "border": null,
            "bottom": null,
            "display": null,
            "flex": null,
            "flex_flow": null,
            "grid_area": null,
            "grid_auto_columns": null,
            "grid_auto_flow": null,
            "grid_auto_rows": null,
            "grid_column": null,
            "grid_gap": null,
            "grid_row": null,
            "grid_template_areas": null,
            "grid_template_columns": null,
            "grid_template_rows": null,
            "height": null,
            "justify_content": null,
            "justify_items": null,
            "left": null,
            "margin": null,
            "max_height": null,
            "max_width": null,
            "min_height": null,
            "min_width": null,
            "object_fit": null,
            "object_position": null,
            "order": null,
            "overflow": null,
            "overflow_x": null,
            "overflow_y": null,
            "padding": null,
            "right": null,
            "top": null,
            "visibility": null,
            "width": null
          }
        },
        "0811c547aef7402ab1aff92e4d402ae8": {
          "model_module": "@jupyter-widgets/base",
          "model_name": "LayoutModel",
          "model_module_version": "1.2.0",
          "state": {
            "_model_module": "@jupyter-widgets/base",
            "_model_module_version": "1.2.0",
            "_model_name": "LayoutModel",
            "_view_count": null,
            "_view_module": "@jupyter-widgets/base",
            "_view_module_version": "1.2.0",
            "_view_name": "LayoutView",
            "align_content": null,
            "align_items": null,
            "align_self": null,
            "border": null,
            "bottom": null,
            "display": null,
            "flex": null,
            "flex_flow": null,
            "grid_area": null,
            "grid_auto_columns": null,
            "grid_auto_flow": null,
            "grid_auto_rows": null,
            "grid_column": null,
            "grid_gap": null,
            "grid_row": null,
            "grid_template_areas": null,
            "grid_template_columns": null,
            "grid_template_rows": null,
            "height": null,
            "justify_content": null,
            "justify_items": null,
            "left": null,
            "margin": null,
            "max_height": null,
            "max_width": null,
            "min_height": null,
            "min_width": null,
            "object_fit": null,
            "object_position": null,
            "order": null,
            "overflow": null,
            "overflow_x": null,
            "overflow_y": null,
            "padding": null,
            "right": null,
            "top": null,
            "visibility": null,
            "width": null
          }
        },
        "3b6f6eb9500d4f0f917551e452e7460b": {
          "model_module": "@jupyter-widgets/controls",
          "model_name": "DescriptionStyleModel",
          "model_module_version": "1.5.0",
          "state": {
            "_model_module": "@jupyter-widgets/controls",
            "_model_module_version": "1.5.0",
            "_model_name": "DescriptionStyleModel",
            "_view_count": null,
            "_view_module": "@jupyter-widgets/base",
            "_view_module_version": "1.2.0",
            "_view_name": "StyleView",
            "description_width": ""
          }
        },
        "d99a3946938f404bb2fc9b1a1c23291c": {
          "model_module": "@jupyter-widgets/base",
          "model_name": "LayoutModel",
          "model_module_version": "1.2.0",
          "state": {
            "_model_module": "@jupyter-widgets/base",
            "_model_module_version": "1.2.0",
            "_model_name": "LayoutModel",
            "_view_count": null,
            "_view_module": "@jupyter-widgets/base",
            "_view_module_version": "1.2.0",
            "_view_name": "LayoutView",
            "align_content": null,
            "align_items": null,
            "align_self": null,
            "border": null,
            "bottom": null,
            "display": null,
            "flex": null,
            "flex_flow": null,
            "grid_area": null,
            "grid_auto_columns": null,
            "grid_auto_flow": null,
            "grid_auto_rows": null,
            "grid_column": null,
            "grid_gap": null,
            "grid_row": null,
            "grid_template_areas": null,
            "grid_template_columns": null,
            "grid_template_rows": null,
            "height": null,
            "justify_content": null,
            "justify_items": null,
            "left": null,
            "margin": null,
            "max_height": null,
            "max_width": null,
            "min_height": null,
            "min_width": null,
            "object_fit": null,
            "object_position": null,
            "order": null,
            "overflow": null,
            "overflow_x": null,
            "overflow_y": null,
            "padding": null,
            "right": null,
            "top": null,
            "visibility": null,
            "width": null
          }
        },
        "f13dd45fdef541668bf9b0a7a864c71b": {
          "model_module": "@jupyter-widgets/controls",
          "model_name": "ProgressStyleModel",
          "model_module_version": "1.5.0",
          "state": {
            "_model_module": "@jupyter-widgets/controls",
            "_model_module_version": "1.5.0",
            "_model_name": "ProgressStyleModel",
            "_view_count": null,
            "_view_module": "@jupyter-widgets/base",
            "_view_module_version": "1.2.0",
            "_view_name": "StyleView",
            "bar_color": null,
            "description_width": ""
          }
        },
        "b829f1c09f0d496b8c965e1cd847b608": {
          "model_module": "@jupyter-widgets/base",
          "model_name": "LayoutModel",
          "model_module_version": "1.2.0",
          "state": {
            "_model_module": "@jupyter-widgets/base",
            "_model_module_version": "1.2.0",
            "_model_name": "LayoutModel",
            "_view_count": null,
            "_view_module": "@jupyter-widgets/base",
            "_view_module_version": "1.2.0",
            "_view_name": "LayoutView",
            "align_content": null,
            "align_items": null,
            "align_self": null,
            "border": null,
            "bottom": null,
            "display": null,
            "flex": null,
            "flex_flow": null,
            "grid_area": null,
            "grid_auto_columns": null,
            "grid_auto_flow": null,
            "grid_auto_rows": null,
            "grid_column": null,
            "grid_gap": null,
            "grid_row": null,
            "grid_template_areas": null,
            "grid_template_columns": null,
            "grid_template_rows": null,
            "height": null,
            "justify_content": null,
            "justify_items": null,
            "left": null,
            "margin": null,
            "max_height": null,
            "max_width": null,
            "min_height": null,
            "min_width": null,
            "object_fit": null,
            "object_position": null,
            "order": null,
            "overflow": null,
            "overflow_x": null,
            "overflow_y": null,
            "padding": null,
            "right": null,
            "top": null,
            "visibility": null,
            "width": null
          }
        },
        "f204746759364c9fba0f29aa8630c266": {
          "model_module": "@jupyter-widgets/controls",
          "model_name": "DescriptionStyleModel",
          "model_module_version": "1.5.0",
          "state": {
            "_model_module": "@jupyter-widgets/controls",
            "_model_module_version": "1.5.0",
            "_model_name": "DescriptionStyleModel",
            "_view_count": null,
            "_view_module": "@jupyter-widgets/base",
            "_view_module_version": "1.2.0",
            "_view_name": "StyleView",
            "description_width": ""
          }
        }
      }
    }
  },
  "nbformat": 4,
  "nbformat_minor": 0
}