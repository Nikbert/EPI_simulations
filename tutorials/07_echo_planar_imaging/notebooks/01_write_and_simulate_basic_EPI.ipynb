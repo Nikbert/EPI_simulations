{
  "cells": [
    {
      "cell_type": "markdown",
      "metadata": {
        "id": "view-in-github",
        "colab_type": "text"
      },
      "source": [
        "<a href=\"https://colab.research.google.com/github/Nikbert/EPI_simulations/blob/main/tutorials/07_echo_planar_imaging/notebooks/01_write_and_simulate_basic_EPI.ipynb\" target=\"_parent\"><img src=\"https://colab.research.google.com/assets/colab-badge.svg\" alt=\"Open In Colab\"/></a>"
      ]
    },
    {
      "cell_type": "markdown",
      "source": [
        "# Example EPI sequence\n",
        "(adopted from https://github.com/imr-framework/pypulseq/blob/dev/pypulseq/seq_examples/scripts/write_epi.py with some modifications)\n",
        "\n",
        "For the first-time use select Runtime->Run All (or hit Ctrl+F9) as thie initial setup of the environment takes about a minute. In a mean time scroll down to familiarize yourself with the sequence code.\n",
        "\n",
        "The exercises are at the at of the notebook"
      ],
      "metadata": {
        "id": "mJe7X9UGeWF1"
      }
    },
    {
      "cell_type": "markdown",
      "source": [
        "# Initial package set-up\n",
        "This is a necessary step for the Colab environment, and it is only slow on the first run"
      ],
      "metadata": {
        "id": "y-JTbHumqEST"
      }
    },
    {
      "cell_type": "code",
      "source": [
        "try:\n",
        "  import pypulseq as mr\n",
        "  import sigpy as sp\n",
        "  print(\"pypulseq package is readily available\\n\")\n",
        "\n",
        "except ImportError or ModuleNotFoundError:\n",
        "  #!pip install git+https://github.com/imr-framework/pypulseq.git\n",
        "  !pip install sigpy\n",
        "  #!pip install git+https://github.com/FrankZijlstra/pypulseq.git@bugfixes\n",
        "  #!pip install -q mrzerocore git+https://github.com/imr-framework/pypulseq.git\n",
        "  # Frank's utils\n",
        "  !wget https://raw.githubusercontent.com/pulseq/MR-Physics-with-Pulseq/main/utils/utils.py\n",
        "\n",
        "  # for simulation\n",
        "  #!pip show MRzeroCore || pip install MRzeroCore\n",
        "  #!wget https://github.com/MRsources/MRzero-Core/raw/main/documentation/playground_mr0/util.py &> /dev/null\n",
        "  #!wget https://github.com/MRsources/MRzero-Core/raw/main/documentation/playground_mr0/numerical_brain_cropped.mat &> /dev/null\n"
      ],
      "metadata": {
        "id": "1MmzSDftfM0Z",
        "outputId": "60d77d34-d1a1-47f9-bb75-172c87998d37",
        "colab": {
          "base_uri": "https://localhost:8080/"
        }
      },
      "execution_count": 257,
      "outputs": [
        {
          "output_type": "stream",
          "name": "stdout",
          "text": [
            "pypulseq package is readily available\n",
            "\n"
          ]
        }
      ]
    },
    {
      "cell_type": "markdown",
      "source": [
        "# Python imports"
      ],
      "metadata": {
        "id": "LTyeejePqQVh"
      }
    },
    {
      "cell_type": "code",
      "source": [
        "%load_ext autoreload\n",
        "%autoreload 2\n",
        "\n",
        "import math\n",
        "import warnings\n",
        "import numpy as np\n",
        "import sigpy as sp\n",
        "from matplotlib import pyplot as plt\n",
        "\n",
        "import pypulseq as mr\n",
        "\n",
        "# Frank's utils\n",
        "#import utils # several helper functions for simulation and recon\n",
        "#import MRzeroCore as mr0\n",
        "from utils import animate, simulate_2d, reconstruct"
      ],
      "metadata": {
        "id": "HmPW2QurfZcW",
        "colab": {
          "base_uri": "https://localhost:8080/"
        },
        "outputId": "17436346-1b7e-45ae-90df-c261123ab35e"
      },
      "execution_count": 258,
      "outputs": [
        {
          "output_type": "stream",
          "name": "stdout",
          "text": [
            "The autoreload extension is already loaded. To reload it, use:\n",
            "  %reload_ext autoreload\n"
          ]
        }
      ]
    },
    {
      "cell_type": "markdown",
      "source": [
        "# Set high-level sequence parameters\n",
        "Use the code block below to set high-level parameters such as FOV, spatial resolution, etc..."
      ],
      "metadata": {
        "id": "yXWZqRmzdLfh"
      }
    },
    {
      "cell_type": "code",
      "source": [
        "# Define FOV, resolution and other parameters\n",
        "fov = 220e-3\n",
        "Nx = 64 #60\n",
        "Ny = 64 #60\n",
        "slice_thickness = 4e-3  # Slice thickness\n",
        "n_slices = 1\n",
        "ro_duration=1200e-6 # duration of the ADC / readout event, defailt: 1200us, 240us still works\n",
        "rf_duration=2.5e-3\n",
        "\n",
        "# Set system limits\n",
        "system = mr.Opts(\n",
        "    max_grad=32,\n",
        "    grad_unit=\"mT/m\",\n",
        "    max_slew=130,\n",
        "    slew_unit=\"T/m/s\",\n",
        "    rf_ringdown_time=20e-6,\n",
        "    rf_dead_time=100e-6,\n",
        "    adc_dead_time=10e-6,\n",
        ")\n",
        "\n",
        "# More advansed options and switches. you may chose to disable some of these options to save time in the exercises\n",
        "plot: bool = True\n",
        "animate_seq: bool = True\n",
        "simulate: bool = True\n",
        "write_seq: bool = True\n",
        "seq_filename: str = \"epi_pypulseq.seq\""
      ],
      "metadata": {
        "id": "IEtZ-QF4f-X8"
      },
      "execution_count": 259,
      "outputs": []
    },
    {
      "cell_type": "markdown",
      "source": [
        "# Create Pulseq objects\n",
        "Create all kinds of objects that we will need in the sequence, such as the slice selective RF pulse, slice selection and refocusing gradients, etc..."
      ],
      "metadata": {
        "id": "2sD8uLXn1iSH"
      }
    },
    {
      "cell_type": "code",
      "source": [
        "# Create 90 degree slice selection pulse and gradient\n",
        "rf, gz, gz_reph = mr.make_sinc_pulse(\n",
        "    flip_angle=np.pi / 2,\n",
        "    system=system,\n",
        "    duration=rf_duration,\n",
        "    slice_thickness=slice_thickness,\n",
        "    apodization=0.5,\n",
        "    time_bw_product=4,\n",
        "    return_gz=True,\n",
        ")\n",
        "\n",
        "# Define other gradients and ADC events\n",
        "delta_k = 1 / fov\n",
        "k_width = Nx * delta_k\n",
        "print('delta_k',delta_k)\n",
        "print('k_width',k_width)\n",
        "dwell_time = ro_duration / Nx\n",
        "flat_time = np.ceil(ro_duration / system.grad_raster_time) * system.grad_raster_time  # round-up to the gradient raster\n",
        "gx = mr.make_trapezoid(\n",
        "    channel=\"x\",\n",
        "    system=system,\n",
        "    amplitude=k_width / ro_duration,\n",
        "    flat_time=flat_time,\n",
        ")\n",
        "\n",
        "\n",
        "\n",
        "gx_even = mr.make_trapezoid(\n",
        "    channel=\"x\",\n",
        "    system=system,\n",
        "    #amplitude = (k_width + 0.05) / ro_duration,\n",
        "    amplitude = (k_width) / ro_duration,\n",
        "    flat_time=flat_time,\n",
        ")\n",
        "\n",
        "\n",
        "\n",
        "gx_odd = mr.make_trapezoid(\n",
        "    channel=\"x\",\n",
        "    system=system,\n",
        "    #amplitude = (k_width) / ro_duration - 0.127,\n",
        "    amplitude = -(k_width) / ro_duration,\n",
        "    flat_time=flat_time,\n",
        ")\n",
        "\n",
        "#amplitude = (k_width) / ro_duration - 0.127,\n",
        "amplitude2 = (k_width - delta_k/2) / ro_duration,\n",
        "\n",
        "#print('amplitude',amplitude)\n",
        "print('amplitude2',amplitude2)\n",
        "\n",
        "adc = mr.make_adc(\n",
        "    num_samples=Nx,\n",
        "    duration=ro_duration,\n",
        "    delay=gx.rise_time + flat_time / 2 - (dwell_time*Nx) / 2,\n",
        "    system=system,\n",
        ")\n",
        "\n",
        "# Pre-phasing gradients (in the shortest possible time or filling the available time)\n",
        "gx_pre = mr.make_trapezoid(\n",
        "    channel=\"x\", system=system, area=-gx.area / 2, duration=mr.calc_duration(gz_reph),\n",
        ")\n",
        "gy_pre = mr.make_trapezoid(\n",
        "    channel=\"y\", system=system, area=(Ny / 2 - 1) * delta_k, duration=mr.calc_duration(gz_reph),\n",
        ")\n",
        "\n",
        "# align gradients (calculate their delays)\n",
        "gx_pre, gy_pre, gz_reph=mr.align(right=[gx_pre],left=[gy_pre, gz_reph])\n",
        "\n",
        "# Phase blip in the shortest possible time (assuming a triangle is possible)\n",
        "dur = np.ceil(2 * np.sqrt(delta_k / system.max_slew) / system.grad_raster_time) * system.grad_raster_time\n",
        "gy = mr.make_trapezoid(channel=\"y\", system=system, area=-delta_k, duration=dur)\n",
        "\n",
        "print('achieved echo spacing is {}us'.format(round(1e6*(mr.calc_duration(gx)+mr.calc_duration(gy)))))"
      ],
      "metadata": {
        "id": "S0txuBhvhFkz",
        "outputId": "c1bde2a0-760a-4414-cba5-b1a5878a655c",
        "colab": {
          "base_uri": "https://localhost:8080/"
        }
      },
      "execution_count": 260,
      "outputs": [
        {
          "output_type": "stream",
          "name": "stdout",
          "text": [
            "delta_k 4.545454545454546\n",
            "k_width 290.90909090909093\n",
            "amplitude2 (240530.3030303031,)\n",
            "achieved echo spacing is 1360us\n"
          ]
        }
      ]
    },
    {
      "cell_type": "markdown",
      "source": [
        "# Construct the sequence\n",
        "Contruct the sequence object and fill it up block-by-block"
      ],
      "metadata": {
        "id": "9Tm2D8tI7zxr"
      }
    },
    {
      "cell_type": "code",
      "source": [
        "seq2 = mr.Sequence(system)  # Create a new sequence object\n",
        "Ny_2 = int(Ny/2)\n",
        "measured_offset_c_even = np.load('diff_center_kx_c_even.npy')\n",
        "measured_offset_c_odd = np.load('diff_center_kx_c_odd.npy')\n",
        "n_measurements = measured_offset_c_even.shape[0]\n",
        "print('n_measurements', n_measurements)\n",
        "# populate the sequence object with event blocks\n",
        "seq_list = []\n",
        "#n_measurements = 2\n",
        "for m in range(n_measurements):\n",
        "  seq2 = mr.Sequence(system)  # Create a new sequence object\n",
        "  for s in range(n_slices):\n",
        "    rf.freq_offset = gz.amplitude * slice_thickness * (s - (n_slices - 1) / 2)\n",
        "    seq2.add_block(rf, gz)\n",
        "    seq2.add_block(gx_pre, gy_pre, gz_reph)\n",
        "    #gx_curr=gx\n",
        "    #gx_currr=mr.scale_grad(gx,-1)\n",
        "    #measured_offset = 0 #.005\n",
        "    #gx_even = mr.make_trapezoid(channel=\"x\", system=system, amplitude = (k_width + measured_offset) / ro_duration, flat_time=flat_time)\n",
        "    #gx_odd = mr.make_trapezoid(channel=\"x\", system=system, amplitude = -(k_width - measured_offset) / ro_duration, flat_time=flat_time)\n",
        "    #gx_even = gx\n",
        "    #gx_odd = gx_currr\n",
        "\n",
        "    for i in range(Ny_2):\n",
        "      #print('measured_offset_c_even[i,1]',measured_offset_c_even[1,i])\n",
        "      #print('measured_offset_c_odd[i,1]',measured_offset_c_odd[i,1])\n",
        "      gx_even = mr.make_trapezoid(channel=\"x\", system=system,\n",
        "        amplitude = (k_width + measured_offset_c_even[m,i]) / ro_duration,\n",
        "        flat_time=flat_time)\n",
        "      gx_odd = mr.make_trapezoid(channel=\"x\", system=system,\n",
        "        amplitude = -(k_width - measured_offset_c_odd[m,i]) / ro_duration,\n",
        "        flat_time=flat_time)\n",
        "      #QP phase correction seems to be off\n",
        "\n",
        "      seq2.add_block(gx_even, adc)  # Read one line of k-space out\n",
        "      seq2.add_block(gy)  # Phase blip\n",
        "      seq2.add_block(gx_odd, adc)\n",
        "      if i!=Ny_2-1:\n",
        "        seq2.add_block(gy)  # Phase blip\n",
        "        #gx_curr = mr.scale_grad(gx_curr,-1)  # Reverse polarity of read gradient\n",
        "  seq_list.append(seq2)\n",
        "\n",
        "print('len(seq_list)',len(seq_list))\n",
        "#namespaceobject\n",
        "\n",
        "seq = mr.Sequence(system)  # Create a new sequence object\n",
        "Ny_2 = int(Ny/2)\n",
        "\n",
        "# populate the sequence object with event blocks\n",
        "for s in range(n_slices):\n",
        "  rf.freq_offset = gz.amplitude * slice_thickness * (s - (n_slices - 1) / 2)\n",
        "  seq.add_block(rf, gz)\n",
        "  seq.add_block(gx_pre, gy_pre, gz_reph)\n",
        "  gx_curr=gx\n",
        "\n",
        "  for i in range(Ny):\n",
        "    seq.add_block(gx_curr, adc)  # Read one line of k-space out\n",
        "    if i!=Ny-1:\n",
        "      seq.add_block(gy)  # Phase blip\n",
        "      gx_curr = mr.scale_grad(gx_curr,-1)  # Reverse polarity of read gradient\n"
      ],
      "metadata": {
        "id": "uHCgYfk5ho6F",
        "colab": {
          "base_uri": "https://localhost:8080/"
        },
        "outputId": "df6c9afb-1eeb-41e0-ccb4-f7ad9e0bf2c6"
      },
      "execution_count": 261,
      "outputs": [
        {
          "output_type": "stream",
          "name": "stdout",
          "text": [
            "n_measurements 99\n",
            "len(seq_list) 99\n"
          ]
        }
      ]
    },
    {
      "cell_type": "markdown",
      "source": [
        "# Timing check\n",
        "Check whether the sequence timing is OK and the objects are consistent and compatible with each other and the target scanner"
      ],
      "metadata": {
        "id": "LBhtotHdqYMh"
      }
    },
    {
      "cell_type": "code",
      "source": [
        "#(\n",
        "#    ok,\n",
        "#    error_report,\n",
        "#) = seq.check_timing()  # Check whether the timing of the sequence is correct\n",
        "#if ok:\n",
        "#    print(\"Timing check passed successfully\")\n",
        "#else:\n",
        "#    print(\"Timing check failed. Error listing follows:\")\n",
        "#    [print(e) for e in error_report]"
      ],
      "metadata": {
        "id": "pTKscy94kAJM"
      },
      "execution_count": 262,
      "outputs": []
    },
    {
      "cell_type": "markdown",
      "source": [
        "# Visualize the sequence\n",
        "Here we just plot the sequence timing. Due to the limitations of the Colab environment the plots are not live, no interactive zoom-in / zoom-out is possible, therefore it is necessary to use the time_range option"
      ],
      "metadata": {
        "id": "kmNXMnPjq6qn"
      }
    },
    {
      "cell_type": "code",
      "source": [
        "#if plot:\n",
        "#  print(\"Plot the beginning of the sequence\")\n",
        "#  #seq.plot(time_range=[0, 5.22e-3], time_disp=\"us\", show_blocks=True) # just a small initial part\n",
        "#  seq.plot(time_range=[0, 8e-3], time_disp=\"ms\")\n",
        "#\n",
        "#  #\n",
        "#  print(\"Plot of the entire sequence\")\n",
        "#  seq.plot() # plot the entire sequence"
      ],
      "metadata": {
        "id": "dQWyYL5LkeGq"
      },
      "execution_count": 263,
      "outputs": []
    },
    {
      "cell_type": "code",
      "source": [
        "[k_traj_adc, k_traj, t_excitation, t_refocusing, t_adc] = seq_list[1].calculate_kspace()\n",
        "plt.figure(figsize=(10, 10))\n",
        "plt.plot(k_traj[0,],k_traj[1,], 'b-')\n",
        "plt.plot(k_traj_adc[0,],k_traj_adc[1,], 'r.')\n",
        "ax = plt.gca()\n",
        "ax.set_aspect('equal', adjustable='box')\n",
        "plt.title('k-space trajectory')\n",
        "plt.xlabel(r'$k_x \\mathregular{\\ /m^{-1}}$')\n",
        "plt.ylabel(r'$k_y \\mathregular{\\ /m^{-1}}$')\n",
        "plt.draw()"
      ],
      "metadata": {
        "colab": {
          "base_uri": "https://localhost:8080/",
          "height": 841
        },
        "id": "WLTTZCHy5nIg",
        "outputId": "b7c29639-390c-4e0a-80b3-452a399e93b6"
      },
      "execution_count": 264,
      "outputs": [
        {
          "output_type": "display_data",
          "data": {
            "text/plain": [
              "<Figure size 1000x1000 with 1 Axes>"
            ],
            "image/png": "[encoded data removed]"
          },
          "metadata": {}
        }
      ]
    },
    {
      "cell_type": "markdown",
      "source": [
        "# (Optionally) Analyze the sequence\n",
        "Very optional slow step, but useful for testing during development\n",
        "e.g. for the real TE, TR or for staying within slew-rate limits, etc."
      ],
      "metadata": {
        "id": "Vk4JivIbnz_1"
      }
    },
    {
      "cell_type": "code",
      "source": [
        "rep = seq.test_report()\n",
        "print(rep)"
      ],
      "metadata": {
        "colab": {
          "base_uri": "https://localhost:8080/"
        },
        "id": "J0JeFpP773gS",
        "outputId": "06142675-c128-4a75-b548-bc5494c767d0"
      },
      "execution_count": 265,
      "outputs": [
        {
          "output_type": "stream",
          "name": "stdout",
          "text": [
            "Number of blocks: 129\n",
            "Number of events:\n",
            "RF:      1\n",
            "Gx:     65\n",
            "Gy:     64\n",
            "Gz:      2\n",
            "ADC:     64\n",
            "Delay:      0\n",
            "Sequence duration: 0.090290 s\n",
            "TE: 0.044770 s\n",
            "TR: 0.090290 s\n",
            "Flip angle: 90.00 deg\n",
            "Unique k-space positions (aka cols, rows, etc.): 64 64 \n",
            "Dimensions: 2\n",
            "Spatial resolution: 3.49 mm\n",
            "Spatial resolution: 3.44 mm\n",
            "Repetitions/slices/contrasts: 1.0; range: [(1.0, 1.0)]\n",
            "Cartesian encoding trajectory detected\n",
            "Event timing check failed. Error listing follows:\n",
            " ['Event: 3 - [type: adc delay: 50.00000000000013 us dwell: 18750.0 ns]\\n', 'Event: 5 - [type: adc delay: 50.00000000000013 us dwell: 18750.0 ns]\\n', 'Event: 7 - [type: adc delay: 50.00000000000013 us dwell: 18750.0 ns]\\n', 'Event: 9 - [type: adc delay: 50.00000000000013 us dwell: 18750.0 ns]\\n', 'Event: 11 - [type: adc delay: 50.00000000000013 us dwell: 18750.0 ns]\\n', 'Event: 13 - [type: adc delay: 50.00000000000013 us dwell: 18750.0 ns]\\n', 'Event: 15 - [type: adc delay: 50.00000000000013 us dwell: 18750.0 ns]\\n', 'Event: 17 - [type: adc delay: 50.00000000000013 us dwell: 18750.0 ns]\\n', 'Event: 19 - [type: adc delay: 50.00000000000013 us dwell: 18750.0 ns]\\n', 'Event: 21 - [type: adc delay: 50.00000000000013 us dwell: 18750.0 ns]\\n', 'Event: 23 - [type: adc delay: 50.00000000000013 us dwell: 18750.0 ns]\\n', 'Event: 25 - [type: adc delay: 50.00000000000013 us dwell: 18750.0 ns]\\n', 'Event: 27 - [type: adc delay: 50.00000000000013 us dwell: 18750.0 ns]\\n', 'Event: 29 - [type: adc delay: 50.00000000000013 us dwell: 18750.0 ns]\\n', 'Event: 31 - [type: adc delay: 50.00000000000013 us dwell: 18750.0 ns]\\n', 'Event: 33 - [type: adc delay: 50.00000000000013 us dwell: 18750.0 ns]\\n', 'Event: 35 - [type: adc delay: 50.00000000000013 us dwell: 18750.0 ns]\\n', 'Event: 37 - [type: adc delay: 50.00000000000013 us dwell: 18750.0 ns]\\n', 'Event: 39 - [type: adc delay: 50.00000000000013 us dwell: 18750.0 ns]\\n', 'Event: 41 - [type: adc delay: 50.00000000000013 us dwell: 18750.0 ns]\\n', 'Event: 43 - [type: adc delay: 50.00000000000013 us dwell: 18750.0 ns]\\n', 'Event: 45 - [type: adc delay: 50.00000000000013 us dwell: 18750.0 ns]\\n', 'Event: 47 - [type: adc delay: 50.00000000000013 us dwell: 18750.0 ns]\\n', 'Event: 49 - [type: adc delay: 50.00000000000013 us dwell: 18750.0 ns]\\n', 'Event: 51 - [type: adc delay: 50.00000000000013 us dwell: 18750.0 ns]\\n', 'Event: 53 - [type: adc delay: 50.00000000000013 us dwell: 18750.0 ns]\\n', 'Event: 55 - [type: adc delay: 50.00000000000013 us dwell: 18750.0 ns]\\n', 'Event: 57 - [type: adc delay: 50.00000000000013 us dwell: 18750.0 ns]\\n', 'Event: 59 - [type: adc delay: 50.00000000000013 us dwell: 18750.0 ns]\\n', 'Event: 61 - [type: adc delay: 50.00000000000013 us dwell: 18750.0 ns]\\n', 'Event: 63 - [type: adc delay: 50.00000000000013 us dwell: 18750.0 ns]\\n', 'Event: 65 - [type: adc delay: 50.00000000000013 us dwell: 18750.0 ns]\\n', 'Event: 67 - [type: adc delay: 50.00000000000013 us dwell: 18750.0 ns]\\n', 'Event: 69 - [type: adc delay: 50.00000000000013 us dwell: 18750.0 ns]\\n', 'Event: 71 - [type: adc delay: 50.00000000000013 us dwell: 18750.0 ns]\\n', 'Event: 73 - [type: adc delay: 50.00000000000013 us dwell: 18750.0 ns]\\n', 'Event: 75 - [type: adc delay: 50.00000000000013 us dwell: 18750.0 ns]\\n', 'Event: 77 - [type: adc delay: 50.00000000000013 us dwell: 18750.0 ns]\\n', 'Event: 79 - [type: adc delay: 50.00000000000013 us dwell: 18750.0 ns]\\n', 'Event: 81 - [type: adc delay: 50.00000000000013 us dwell: 18750.0 ns]\\n', 'Event: 83 - [type: adc delay: 50.00000000000013 us dwell: 18750.0 ns]\\n', 'Event: 85 - [type: adc delay: 50.00000000000013 us dwell: 18750.0 ns]\\n', 'Event: 87 - [type: adc delay: 50.00000000000013 us dwell: 18750.0 ns]\\n', 'Event: 89 - [type: adc delay: 50.00000000000013 us dwell: 18750.0 ns]\\n', 'Event: 91 - [type: adc delay: 50.00000000000013 us dwell: 18750.0 ns]\\n', 'Event: 93 - [type: adc delay: 50.00000000000013 us dwell: 18750.0 ns]\\n', 'Event: 95 - [type: adc delay: 50.00000000000013 us dwell: 18750.0 ns]\\n', 'Event: 97 - [type: adc delay: 50.00000000000013 us dwell: 18750.0 ns]\\n', 'Event: 99 - [type: adc delay: 50.00000000000013 us dwell: 18750.0 ns]\\n', 'Event: 101 - [type: adc delay: 50.00000000000013 us dwell: 18750.0 ns]\\n', 'Event: 103 - [type: adc delay: 50.00000000000013 us dwell: 18750.0 ns]\\n', 'Event: 105 - [type: adc delay: 50.00000000000013 us dwell: 18750.0 ns]\\n', 'Event: 107 - [type: adc delay: 50.00000000000013 us dwell: 18750.0 ns]\\n', 'Event: 109 - [type: adc delay: 50.00000000000013 us dwell: 18750.0 ns]\\n', 'Event: 111 - [type: adc delay: 50.00000000000013 us dwell: 18750.0 ns]\\n', 'Event: 113 - [type: adc delay: 50.00000000000013 us dwell: 18750.0 ns]\\n', 'Event: 115 - [type: adc delay: 50.00000000000013 us dwell: 18750.0 ns]\\n', 'Event: 117 - [type: adc delay: 50.00000000000013 us dwell: 18750.0 ns]\\n', 'Event: 119 - [type: adc delay: 50.00000000000013 us dwell: 18750.0 ns]\\n', 'Event: 121 - [type: adc delay: 50.00000000000013 us dwell: 18750.0 ns]\\n', 'Event: 123 - [type: adc delay: 50.00000000000013 us dwell: 18750.0 ns]\\n', 'Event: 125 - [type: adc delay: 50.00000000000013 us dwell: 18750.0 ns]\\n', 'Event: 127 - [type: adc delay: 50.00000000000013 us dwell: 18750.0 ns]\\n', 'Event: 129 - [type: adc delay: 50.00000000000013 us dwell: 18750.0 ns]\\n']Max gradient: 329381 299807 1357895 Hz/m == 7.74 7.04 31.89 mT/m\n",
            "Max slew rate: 4848484848 5050505051 5431578947 Hz/m/s == 113.88 118.62 127.57 T/m/s\n",
            "Max absolute gradient: 1429074 Hz/m == 33.57 mT/m\n",
            "Max absolute slew rate: 6.06359e+09 Hz/m/s == 142.42 T/m/s\n"
          ]
        }
      ]
    },
    {
      "cell_type": "markdown",
      "source": [
        "#Write the .seq file\n",
        "\n",
        "Set the output parameters (definitions) and write the sequence to the file.\n",
        "\n",
        "*Note: The FOV definition is also used by the simulation/reconstruction code below*"
      ],
      "metadata": {
        "id": "iARu27z-nn6B"
      }
    },
    {
      "cell_type": "code",
      "source": [
        "# Prepare the sequence output for the scanner\n",
        "seq.set_definition(key=\"FOV\", value=[fov, fov, slice_thickness*n_slices])\n",
        "seq.set_definition(key=\"Name\", value=\"epi\")\n",
        "#\n",
        "if write_seq:\n",
        "  # Write the sequence file\n",
        "  seq.write(seq_filename)\n",
        "#  from google.colab import files\n",
        "#  files.download(seq_filename)  # Download locally"
      ],
      "metadata": {
        "id": "qnfYzw-Pzx2H"
      },
      "execution_count": 266,
      "outputs": []
    },
    {
      "cell_type": "markdown",
      "source": [
        "#Animate trajectory"
      ],
      "metadata": {
        "id": "gqVCYCHYdfZs"
      }
    },
    {
      "cell_type": "code",
      "source": [
        "#if animate_seq:\n",
        "#  ani = animate(seq, show=False, dt=1e-3, fps=5, show_progress=True) # additional paremeter: time_range=[start, end]\n",
        "#  from IPython.display import HTML\n",
        "#  display(HTML(ani.to_html5_video()))"
      ],
      "metadata": {
        "id": "SoNtyRAEbq-F"
      },
      "execution_count": 267,
      "outputs": []
    },
    {
      "cell_type": "markdown",
      "source": [
        "**Run MR-zero simulation**\n",
        "\n",
        "The code below simulates the whole sequence, and shows the magnitude of the raw k-space profiles."
      ],
      "metadata": {
        "id": "zZJonpjrzHga"
      }
    },
    {
      "cell_type": "code",
      "source": [
        "\"\"\"\n",
        "#@title 1D GRE in a pixel phantom - simulation\n",
        "dB0 = 0\n",
        "# %% S4: SETUP SPIN SYSTEM/object on which we can run the MR sequence external.seq from above\n",
        "# set phantom  manually to a pixel phantom. Coordinate system is [-0.5, 0.5]^3\n",
        "obj_p = mr0.CustomVoxelPhantom(\n",
        "        pos=[[-0.1, 0., 0]],\n",
        "        PD=[1.0],\n",
        "        T1=[0.807],\n",
        "        T2=[0.082],\n",
        "        T2dash=[8e-3],\n",
        "        D=[0.0],\n",
        "        B0=0,\n",
        "        voxel_size=0.4,\n",
        "        voxel_shape=\"box\"\n",
        "    )\n",
        "# Manipulate loaded data\n",
        "obj_p.B0+=dB0\n",
        "obj_p.D*=0\n",
        "obj_p.plot()\n",
        "# Convert Phantom into simulation data\n",
        "obj_p=obj_p.build()\n",
        "\n",
        "# %% SIMULATE  the external.seq file and add acquired signal to ADC plot\n",
        "# Read in the sequence\n",
        "seq0 = mr0.Sequence.from_seq_file(\"epi_pypulseq.seq\")\n",
        "seq0.plot_kspace_trajectory()\n",
        "\n",
        "# Simulate the sequence\n",
        "graph=mr0.compute_graph(seq0, obj_p, 200, 1e-3)\n",
        "signal=mr0.execute_graph(graph, seq0, obj_p)\n",
        "\"\"\""
      ],
      "metadata": {
        "colab": {
          "base_uri": "https://localhost:8080/",
          "height": 174
        },
        "id": "kZA2oyYH02fM",
        "outputId": "dd214a81-7b6a-4aad-ab79-5c33dcf33b86"
      },
      "execution_count": 268,
      "outputs": [
        {
          "output_type": "execute_result",
          "data": {
            "text/plain": [
              "'\\n#@title 1D GRE in a pixel phantom - simulation\\ndB0 = 0\\n# %% S4: SETUP SPIN SYSTEM/object on which we can run the MR sequence external.seq from above\\n# set phantom  manually to a pixel phantom. Coordinate system is [-0.5, 0.5]^3\\nobj_p = mr0.CustomVoxelPhantom(\\n        pos=[[-0.1, 0., 0]],\\n        PD=[1.0],\\n        T1=[0.807],\\n        T2=[0.082],\\n        T2dash=[8e-3],\\n        D=[0.0],\\n        B0=0,\\n        voxel_size=0.4,\\n        voxel_shape=\"box\"\\n    )\\n# Manipulate loaded data\\nobj_p.B0+=dB0\\nobj_p.D*=0\\nobj_p.plot()\\n# Convert Phantom into simulation data\\nobj_p=obj_p.build()\\n\\n# %% SIMULATE  the external.seq file and add acquired signal to ADC plot\\n# Read in the sequence\\nseq0 = mr0.Sequence.from_seq_file(\"epi_pypulseq.seq\")\\nseq0.plot_kspace_trajectory()\\n\\n# Simulate the sequence\\ngraph=mr0.compute_graph(seq0, obj_p, 200, 1e-3)\\nsignal=mr0.execute_graph(graph, seq0, obj_p)\\n'"
            ],
            "application/vnd.google.colaboratory.intrinsic+json": {
              "type": "string"
            }
          },
          "metadata": {},
          "execution_count": 268
        }
      ]
    },
    {
      "cell_type": "code",
      "source": [
        "if simulate:\n",
        "  # Simulate sequence\n",
        "  #kdata = mr0.compute_graph(seq, obj_p, 200, 1e-3)\n",
        "  #kdata2 = mr0.compute_graph(seq2, obj_p, 200, 1e-3)\n",
        "\n",
        "  kdata = simulate_2d(seq, sim_size=[Nx*2,Ny*2], noise_level=0, n_coils=1) # B0_polynomial=[...] optional parameter: B0_offset, Gx, Gy, x^2, y^2, x*y; units??? good value 200\n",
        "  kdata2 = simulate_2d(seq2, sim_size=[Nx*2,Ny*2], noise_level=0, n_coils=1)\n",
        "\n",
        "  \"\"\"\n",
        "  kdata_list = []\n",
        "  for m in range(n_measurements):\n",
        "    print('m',m)\n",
        "  #for m in range(1):\n",
        "    kdata_temp = simulate_2d(seq_list[m], sim_size=[Nx*2,Ny*2], noise_level=0, n_coils=1)\n",
        "    kdata_list.append(kdata_temp)\n",
        "  \"\"\"\n",
        "  # Display raw data profiles\n",
        "  plt.figure()\n",
        "  plt.imshow(abs(kdata[0].reshape(-1,adc.num_samples)))\n",
        "  plt.title('Magnitude of acquired raw data'); # raw data, not k-space data (odd/even lines not reverted)\n",
        "\n",
        "  # Display the data more correctly\n",
        "  kdata_swapped=np.zeros_like(kdata)\n",
        "  kdata_swapped[:,0::2,:]=kdata[:,0::2,:]\n",
        "  kdata_swapped[:,1::2,:]=kdata[:,1::2,::-1]\n",
        "  plt.figure()\n",
        "  plt.imshow(abs(kdata_swapped[0].reshape(-1,adc.num_samples)))\n",
        "  plt.title('Magnitude of k-space data (odd lines swapped)'); # raw data, not k-space data (odd/even lines not reverted)\n"
      ],
      "metadata": {
        "colab": {
          "base_uri": "https://localhost:8080/",
          "height": 956
        },
        "id": "hLoKdmAhbdvM",
        "outputId": "06b8cde9-ab9a-418e-a4f2-b37062f943cd"
      },
      "execution_count": 269,
      "outputs": [
        {
          "output_type": "stream",
          "name": "stdout",
          "text": [
            "here!!\n",
            "Calculating repetition 1 / 1 - done\n",
            "here!!\n",
            "Calculating repetition 1 / 1 - done\n"
          ]
        },
        {
          "output_type": "display_data",
          "data": {
            "text/plain": [
              "<Figure size 640x480 with 1 Axes>"
            ],
            "image/png": "[encoded data removed]"
          },
          "metadata": {}
        },
        {
          "output_type": "display_data",
          "data": {
            "text/plain": [
              "<Figure size 640x480 with 1 Axes>"
            ],
            "image/png": "[encoded data removed]"
          },
          "metadata": {}
        }
      ]
    },
    {
      "cell_type": "markdown",
      "source": [
        "**Reconstruction**"
      ],
      "metadata": {
        "id": "WZZiRMLPb3ul"
      }
    },
    {
      "cell_type": "code",
      "source": [
        "if simulate:\n",
        "  rec = reconstruct(kdata, seq, trajectory_delay=0e-6, cartesian=False) # for the trajectory delay to work with the basic (non-ramp-sampling EPI) cartesian=False is needed\n",
        "  # need to invert data dimentions because the reconstruction code uses iFFT to go from k-space to image space\n",
        "  rec=rec[::-1,::-1]\n",
        "\n",
        "  rec2 = reconstruct(kdata2, seq, trajectory_delay=0e-6, cartesian=False) # for the trajectory delay to work with the basic (non-ramp-sampling EPI) cartesian=False is needed\n",
        "  # need to invert data dimentions because the reconstruction code uses iFFT to go from k-space to image space\n",
        "  rec2=rec2[::-1,::-1]\n",
        "  \"\"\"\n",
        "  rec_list = np.zeros((66,64,n_measurements))\n",
        "  for m in range(n_measurements):\n",
        "    print('m',m)\n",
        "    kdata_temp = kdata_list[m]\n",
        "    rec_temp = reconstruct(kdata_temp, seq, trajectory_delay=0e-6, cartesian=False)\n",
        "    rec_list[:,:,m] = rec_temp[::-1,::-1]\n",
        "    #rec_list.append(rec_temp)\n",
        "  \"\"\"\n",
        "  fig, ax = plt.subplots(nrows=1, ncols=3)\n",
        "  ax = ax.flatten()\n",
        "\n",
        "  ax[0].imshow(abs(rec), origin='lower')\n",
        "  ax[0].set_title('kdata')\n",
        "\n",
        "  #ax[1].imshow(abs(rec_list[0]), origin='lower')\n",
        "  ax[1].imshow(abs(rec2), origin='lower')\n",
        "  ax[1].set_title('kdata2')\n",
        "  print('test')\n",
        "  ax[2].imshow(abs(rec2)-abs(rec), origin='lower')\n",
        "  #ax[2].imshow(abs(rec_list[:,:,10])-abs(rec_list[:,:,61]), origin='lower')\n",
        "  ax[2].set_title('kdata3')\n",
        "\n",
        "  fig.tight_layout()\n",
        "  fig.set_figheight(6)\n",
        "  fig.set_figwidth(18)\n",
        "  plt.show();"
      ],
      "metadata": {
        "colab": {
          "base_uri": "https://localhost:8080/",
          "height": 467,
          "referenced_widgets": [
            "3fc0c8dd76ae48e49d83a335b39e0435",
            "499d9d0b84d44fa5a394525151e15d69",
            "df3f58f867264427a4b9b1dbd21f1cbb",
            "74b9880b0a444534b72dd86a7aee5933",
            "5c3aa31e56bf42ab88479c568a01cabf",
            "22cb194e48304e3b946e9728bf434d37",
            "7c6efc61d95b447db7fd94f1048d2d13",
            "a87cc3f612284aab963b1abc23dc180d",
            "24c1abc2e6f340ed8c8ced2b9750cc85",
            "58473620c728468f85319c5fdb7c3ff1",
            "5b1d18ab55d84397a577a0dc35234008",
            "b124b0393e6f4c988bd13375543ccc91",
            "fa1ad524567847c08c1deb330daf4fce",
            "64ffd5b360c34834ae011550fb1d42ea",
            "1949822800b44a1181ba68cd174b0744",
            "259f149077d943a4adf55e59dc409c7f",
            "bfcfd971e1dd40dca3a759e6d29077eb",
            "781aabeb43bf4226be1a0116d9367d0d",
            "ad107036c508488eb0b54c8cfcf18963",
            "9a151ddc379c4428b6fec337b77507ac",
            "e548900fc4d34121b09f42c36295afd3",
            "899dded257bf41929e89a0c9aa4d6afa"
          ]
        },
        "id": "zeEk_c0Ob6jE",
        "outputId": "70db1811-32a5-4ede-b960-910ffbdcafbb"
      },
      "execution_count": 270,
      "outputs": [
        {
          "output_type": "stream",
          "name": "stdout",
          "text": [
            "Automatically detected 2D sequence\n",
            "Automatically detected matrix size: (66, 64)\n"
          ]
        },
        {
          "output_type": "display_data",
          "data": {
            "text/plain": [
              "LinearLeastSquares:   0%|          | 0/10 [00:00<?, ?it/s]"
            ],
            "application/vnd.jupyter.widget-view+json": {
              "version_major": 2,
              "version_minor": 0,
              "model_id": "3fc0c8dd76ae48e49d83a335b39e0435"
            }
          },
          "metadata": {}
        },
        {
          "output_type": "stream",
          "name": "stdout",
          "text": [
            "Automatically detected 2D sequence\n",
            "Automatically detected matrix size: (66, 64)\n"
          ]
        },
        {
          "output_type": "display_data",
          "data": {
            "text/plain": [
              "LinearLeastSquares:   0%|          | 0/10 [00:00<?, ?it/s]"
            ],
            "application/vnd.jupyter.widget-view+json": {
              "version_major": 2,
              "version_minor": 0,
              "model_id": "b124b0393e6f4c988bd13375543ccc91"
            }
          },
          "metadata": {}
        },
        {
          "output_type": "stream",
          "name": "stdout",
          "text": [
            "test\n"
          ]
        },
        {
          "output_type": "display_data",
          "data": {
            "text/plain": [
              "<Figure size 1800x600 with 3 Axes>"
            ],
            "image/png": "[encoded data removed]"
          },
          "metadata": {}
        }
      ]
    },
    {
      "cell_type": "code",
      "source": [
        "np.save('recon_list_CimaX.npy',rec_list)\n"
      ],
      "metadata": {
        "id": "okakQoyjjSjC"
      },
      "execution_count": 271,
      "outputs": []
    },
    {
      "cell_type": "markdown",
      "source": [
        "# Exercises (getting familiar with EPI)\n",
        "* **Familiarize yourself with the sequence**: find parameters to control FOV, spatial resolution, slice number and thickness, and readout bandwidth.\n",
        "* **Implement an additional option for suppressing / inverting phase encoding**: one posibility is to add a switch `pe_switch` or similar variable to the \"high-level sequence parameters\" section taking values of (1,0,-1) and implement necessary code alternations. Known limitation of the code: the the image reconstruction will crash without phase encoding.\n",
        "* **Experiment with B0_polynomial and pe_switch**, modify echo spacing by testing various values of `ro_duration` and visualize geometric distortions. Enhance distordion appearence by inverting the PE sign. `B0_polynomial` is an optional parameter to the `simulate_2d()` call and can be specified as `B0_polynomial=[0,0,0,0,0,0]`. The later setting will also reset the default (measured) B0 field map provided with the phantom data set. Setting any of the values in the array to non-zeros will induce corresponding spatial field term, see the comment to the `simulate_2d()` call.  \n",
        "* **Check yourself**\n",
        "  1. What is the native Pulseq unit for the gradient strength?\n",
        "  2. Can you read the current spatial resolution from the k-space plot?\n",
        "  3. What is the Pulseq native unit for the RF amplitude?\n",
        "  4. Why certain combinations of matrix size and readout duration are not possible?\n"
      ],
      "metadata": {
        "id": "f1q5xIpisA89"
      }
    }
  ],
  "metadata": {
    "colab": {
      "provenance": [],
      "include_colab_link": true
    },
    "kernelspec": {
      "display_name": "Python 3",
      "name": "python3"
    },
    "widgets": {
      "application/vnd.jupyter.widget-state+json": {
        "3fc0c8dd76ae48e49d83a335b39e0435": {
          "model_module": "@jupyter-widgets/controls",
          "model_name": "HBoxModel",
          "model_module_version": "1.5.0",
          "state": {
            "_dom_classes": [],
            "_model_module": "@jupyter-widgets/controls",
            "_model_module_version": "1.5.0",
            "_model_name": "HBoxModel",
            "_view_count": null,
            "_view_module": "@jupyter-widgets/controls",
            "_view_module_version": "1.5.0",
            "_view_name": "HBoxView",
            "box_style": "",
            "children": [
              "IPY_MODEL_499d9d0b84d44fa5a394525151e15d69",
              "IPY_MODEL_df3f58f867264427a4b9b1dbd21f1cbb",
              "IPY_MODEL_74b9880b0a444534b72dd86a7aee5933"
            ],
            "layout": "IPY_MODEL_5c3aa31e56bf42ab88479c568a01cabf"
          }
        },
        "499d9d0b84d44fa5a394525151e15d69": {
          "model_module": "@jupyter-widgets/controls",
          "model_name": "HTMLModel",
          "model_module_version": "1.5.0",
          "state": {
            "_dom_classes": [],
            "_model_module": "@jupyter-widgets/controls",
            "_model_module_version": "1.5.0",
            "_model_name": "HTMLModel",
            "_view_count": null,
            "_view_module": "@jupyter-widgets/controls",
            "_view_module_version": "1.5.0",
            "_view_name": "HTMLView",
            "description": "",
            "description_tooltip": null,
            "layout": "IPY_MODEL_22cb194e48304e3b946e9728bf434d37",
            "placeholder": "​",
            "style": "IPY_MODEL_7c6efc61d95b447db7fd94f1048d2d13",
            "value": "LinearLeastSquares: 100%"
          }
        },
        "df3f58f867264427a4b9b1dbd21f1cbb": {
          "model_module": "@jupyter-widgets/controls",
          "model_name": "FloatProgressModel",
          "model_module_version": "1.5.0",
          "state": {
            "_dom_classes": [],
            "_model_module": "@jupyter-widgets/controls",
            "_model_module_version": "1.5.0",
            "_model_name": "FloatProgressModel",
            "_view_count": null,
            "_view_module": "@jupyter-widgets/controls",
            "_view_module_version": "1.5.0",
            "_view_name": "ProgressView",
            "bar_style": "success",
            "description": "",
            "description_tooltip": null,
            "layout": "IPY_MODEL_a87cc3f612284aab963b1abc23dc180d",
            "max": 10,
            "min": 0,
            "orientation": "horizontal",
            "style": "IPY_MODEL_24c1abc2e6f340ed8c8ced2b9750cc85",
            "value": 10
          }
        },
        "74b9880b0a444534b72dd86a7aee5933": {
          "model_module": "@jupyter-widgets/controls",
          "model_name": "HTMLModel",
          "model_module_version": "1.5.0",
          "state": {
            "_dom_classes": [],
            "_model_module": "@jupyter-widgets/controls",
            "_model_module_version": "1.5.0",
            "_model_name": "HTMLModel",
            "_view_count": null,
            "_view_module": "@jupyter-widgets/controls",
            "_view_module_version": "1.5.0",
            "_view_name": "HTMLView",
            "description": "",
            "description_tooltip": null,
            "layout": "IPY_MODEL_58473620c728468f85319c5fdb7c3ff1",
            "placeholder": "​",
            "style": "IPY_MODEL_5b1d18ab55d84397a577a0dc35234008",
            "value": " 10/10 [00:00&lt;00:00, 12.69it/s, resid=1.22E-14]"
          }
        },
        "5c3aa31e56bf42ab88479c568a01cabf": {
          "model_module": "@jupyter-widgets/base",
          "model_name": "LayoutModel",
          "model_module_version": "1.2.0",
          "state": {
            "_model_module": "@jupyter-widgets/base",
            "_model_module_version": "1.2.0",
            "_model_name": "LayoutModel",
            "_view_count": null,
            "_view_module": "@jupyter-widgets/base",
            "_view_module_version": "1.2.0",
            "_view_name": "LayoutView",
            "align_content": null,
            "align_items": null,
            "align_self": null,
            "border": null,
            "bottom": null,
            "display": null,
            "flex": null,
            "flex_flow": null,
            "grid_area": null,
            "grid_auto_columns": null,
            "grid_auto_flow": null,
            "grid_auto_rows": null,
            "grid_column": null,
            "grid_gap": null,
            "grid_row": null,
            "grid_template_areas": null,
            "grid_template_columns": null,
            "grid_template_rows": null,
            "height": null,
            "justify_content": null,
            "justify_items": null,
            "left": null,
            "margin": null,
            "max_height": null,
            "max_width": null,
            "min_height": null,
            "min_width": null,
            "object_fit": null,
            "object_position": null,
            "order": null,
            "overflow": null,
            "overflow_x": null,
            "overflow_y": null,
            "padding": null,
            "right": null,
            "top": null,
            "visibility": null,
            "width": null
          }
        },
        "22cb194e48304e3b946e9728bf434d37": {
          "model_module": "@jupyter-widgets/base",
          "model_name": "LayoutModel",
          "model_module_version": "1.2.0",
          "state": {
            "_model_module": "@jupyter-widgets/base",
            "_model_module_version": "1.2.0",
            "_model_name": "LayoutModel",
            "_view_count": null,
            "_view_module": "@jupyter-widgets/base",
            "_view_module_version": "1.2.0",
            "_view_name": "LayoutView",
            "align_content": null,
            "align_items": null,
            "align_self": null,
            "border": null,
            "bottom": null,
            "display": null,
            "flex": null,
            "flex_flow": null,
            "grid_area": null,
            "grid_auto_columns": null,
            "grid_auto_flow": null,
            "grid_auto_rows": null,
            "grid_column": null,
            "grid_gap": null,
            "grid_row": null,
            "grid_template_areas": null,
            "grid_template_columns": null,
            "grid_template_rows": null,
            "height": null,
            "justify_content": null,
            "justify_items": null,
            "left": null,
            "margin": null,
            "max_height": null,
            "max_width": null,
            "min_height": null,
            "min_width": null,
            "object_fit": null,
            "object_position": null,
            "order": null,
            "overflow": null,
            "overflow_x": null,
            "overflow_y": null,
            "padding": null,
            "right": null,
            "top": null,
            "visibility": null,
            "width": null
          }
        },
        "7c6efc61d95b447db7fd94f1048d2d13": {
          "model_module": "@jupyter-widgets/controls",
          "model_name": "DescriptionStyleModel",
          "model_module_version": "1.5.0",
          "state": {
            "_model_module": "@jupyter-widgets/controls",
            "_model_module_version": "1.5.0",
            "_model_name": "DescriptionStyleModel",
            "_view_count": null,
            "_view_module": "@jupyter-widgets/base",
            "_view_module_version": "1.2.0",
            "_view_name": "StyleView",
            "description_width": ""
          }
        },
        "a87cc3f612284aab963b1abc23dc180d": {
          "model_module": "@jupyter-widgets/base",
          "model_name": "LayoutModel",
          "model_module_version": "1.2.0",
          "state": {
            "_model_module": "@jupyter-widgets/base",
            "_model_module_version": "1.2.0",
            "_model_name": "LayoutModel",
            "_view_count": null,
            "_view_module": "@jupyter-widgets/base",
            "_view_module_version": "1.2.0",
            "_view_name": "LayoutView",
            "align_content": null,
            "align_items": null,
            "align_self": null,
            "border": null,
            "bottom": null,
            "display": null,
            "flex": null,
            "flex_flow": null,
            "grid_area": null,
            "grid_auto_columns": null,
            "grid_auto_flow": null,
            "grid_auto_rows": null,
            "grid_column": null,
            "grid_gap": null,
            "grid_row": null,
            "grid_template_areas": null,
            "grid_template_columns": null,
            "grid_template_rows": null,
            "height": null,
            "justify_content": null,
            "justify_items": null,
            "left": null,
            "margin": null,
            "max_height": null,
            "max_width": null,
            "min_height": null,
            "min_width": null,
            "object_fit": null,
            "object_position": null,
            "order": null,
            "overflow": null,
            "overflow_x": null,
            "overflow_y": null,
            "padding": null,
            "right": null,
            "top": null,
            "visibility": null,
            "width": null
          }
        },
        "24c1abc2e6f340ed8c8ced2b9750cc85": {
          "model_module": "@jupyter-widgets/controls",
          "model_name": "ProgressStyleModel",
          "model_module_version": "1.5.0",
          "state": {
            "_model_module": "@jupyter-widgets/controls",
            "_model_module_version": "1.5.0",
            "_model_name": "ProgressStyleModel",
            "_view_count": null,
            "_view_module": "@jupyter-widgets/base",
            "_view_module_version": "1.2.0",
            "_view_name": "StyleView",
            "bar_color": null,
            "description_width": ""
          }
        },
        "58473620c728468f85319c5fdb7c3ff1": {
          "model_module": "@jupyter-widgets/base",
          "model_name": "LayoutModel",
          "model_module_version": "1.2.0",
          "state": {
            "_model_module": "@jupyter-widgets/base",
            "_model_module_version": "1.2.0",
            "_model_name": "LayoutModel",
            "_view_count": null,
            "_view_module": "@jupyter-widgets/base",
            "_view_module_version": "1.2.0",
            "_view_name": "LayoutView",
            "align_content": null,
            "align_items": null,
            "align_self": null,
            "border": null,
            "bottom": null,
            "display": null,
            "flex": null,
            "flex_flow": null,
            "grid_area": null,
            "grid_auto_columns": null,
            "grid_auto_flow": null,
            "grid_auto_rows": null,
            "grid_column": null,
            "grid_gap": null,
            "grid_row": null,
            "grid_template_areas": null,
            "grid_template_columns": null,
            "grid_template_rows": null,
            "height": null,
            "justify_content": null,
            "justify_items": null,
            "left": null,
            "margin": null,
            "max_height": null,
            "max_width": null,
            "min_height": null,
            "min_width": null,
            "object_fit": null,
            "object_position": null,
            "order": null,
            "overflow": null,
            "overflow_x": null,
            "overflow_y": null,
            "padding": null,
            "right": null,
            "top": null,
            "visibility": null,
            "width": null
          }
        },
        "5b1d18ab55d84397a577a0dc35234008": {
          "model_module": "@jupyter-widgets/controls",
          "model_name": "DescriptionStyleModel",
          "model_module_version": "1.5.0",
          "state": {
            "_model_module": "@jupyter-widgets/controls",
            "_model_module_version": "1.5.0",
            "_model_name": "DescriptionStyleModel",
            "_view_count": null,
            "_view_module": "@jupyter-widgets/base",
            "_view_module_version": "1.2.0",
            "_view_name": "StyleView",
            "description_width": ""
          }
        },
        "b124b0393e6f4c988bd13375543ccc91": {
          "model_module": "@jupyter-widgets/controls",
          "model_name": "HBoxModel",
          "model_module_version": "1.5.0",
          "state": {
            "_dom_classes": [],
            "_model_module": "@jupyter-widgets/controls",
            "_model_module_version": "1.5.0",
            "_model_name": "HBoxModel",
            "_view_count": null,
            "_view_module": "@jupyter-widgets/controls",
            "_view_module_version": "1.5.0",
            "_view_name": "HBoxView",
            "box_style": "",
            "children": [
              "IPY_MODEL_fa1ad524567847c08c1deb330daf4fce",
              "IPY_MODEL_64ffd5b360c34834ae011550fb1d42ea",
              "IPY_MODEL_1949822800b44a1181ba68cd174b0744"
            ],
            "layout": "IPY_MODEL_259f149077d943a4adf55e59dc409c7f"
          }
        },
        "fa1ad524567847c08c1deb330daf4fce": {
          "model_module": "@jupyter-widgets/controls",
          "model_name": "HTMLModel",
          "model_module_version": "1.5.0",
          "state": {
            "_dom_classes": [],
            "_model_module": "@jupyter-widgets/controls",
            "_model_module_version": "1.5.0",
            "_model_name": "HTMLModel",
            "_view_count": null,
            "_view_module": "@jupyter-widgets/controls",
            "_view_module_version": "1.5.0",
            "_view_name": "HTMLView",
            "description": "",
            "description_tooltip": null,
            "layout": "IPY_MODEL_bfcfd971e1dd40dca3a759e6d29077eb",
            "placeholder": "​",
            "style": "IPY_MODEL_781aabeb43bf4226be1a0116d9367d0d",
            "value": "LinearLeastSquares: 100%"
          }
        },
        "64ffd5b360c34834ae011550fb1d42ea": {
          "model_module": "@jupyter-widgets/controls",
          "model_name": "FloatProgressModel",
          "model_module_version": "1.5.0",
          "state": {
            "_dom_classes": [],
            "_model_module": "@jupyter-widgets/controls",
            "_model_module_version": "1.5.0",
            "_model_name": "FloatProgressModel",
            "_view_count": null,
            "_view_module": "@jupyter-widgets/controls",
            "_view_module_version": "1.5.0",
            "_view_name": "ProgressView",
            "bar_style": "success",
            "description": "",
            "description_tooltip": null,
            "layout": "IPY_MODEL_ad107036c508488eb0b54c8cfcf18963",
            "max": 10,
            "min": 0,
            "orientation": "horizontal",
            "style": "IPY_MODEL_9a151ddc379c4428b6fec337b77507ac",
            "value": 10
          }
        },
        "1949822800b44a1181ba68cd174b0744": {
          "model_module": "@jupyter-widgets/controls",
          "model_name": "HTMLModel",
          "model_module_version": "1.5.0",
          "state": {
            "_dom_classes": [],
            "_model_module": "@jupyter-widgets/controls",
            "_model_module_version": "1.5.0",
            "_model_name": "HTMLModel",
            "_view_count": null,
            "_view_module": "@jupyter-widgets/controls",
            "_view_module_version": "1.5.0",
            "_view_name": "HTMLView",
            "description": "",
            "description_tooltip": null,
            "layout": "IPY_MODEL_e548900fc4d34121b09f42c36295afd3",
            "placeholder": "​",
            "style": "IPY_MODEL_899dded257bf41929e89a0c9aa4d6afa",
            "value": " 10/10 [00:00&lt;00:00, 12.99it/s, resid=1.17E-14]"
          }
        },
        "259f149077d943a4adf55e59dc409c7f": {
          "model_module": "@jupyter-widgets/base",
          "model_name": "LayoutModel",
          "model_module_version": "1.2.0",
          "state": {
            "_model_module": "@jupyter-widgets/base",
            "_model_module_version": "1.2.0",
            "_model_name": "LayoutModel",
            "_view_count": null,
            "_view_module": "@jupyter-widgets/base",
            "_view_module_version": "1.2.0",
            "_view_name": "LayoutView",
            "align_content": null,
            "align_items": null,
            "align_self": null,
            "border": null,
            "bottom": null,
            "display": null,
            "flex": null,
            "flex_flow": null,
            "grid_area": null,
            "grid_auto_columns": null,
            "grid_auto_flow": null,
            "grid_auto_rows": null,
            "grid_column": null,
            "grid_gap": null,
            "grid_row": null,
            "grid_template_areas": null,
            "grid_template_columns": null,
            "grid_template_rows": null,
            "height": null,
            "justify_content": null,
            "justify_items": null,
            "left": null,
            "margin": null,
            "max_height": null,
            "max_width": null,
            "min_height": null,
            "min_width": null,
            "object_fit": null,
            "object_position": null,
            "order": null,
            "overflow": null,
            "overflow_x": null,
            "overflow_y": null,
            "padding": null,
            "right": null,
            "top": null,
            "visibility": null,
            "width": null
          }
        },
        "bfcfd971e1dd40dca3a759e6d29077eb": {
          "model_module": "@jupyter-widgets/base",
          "model_name": "LayoutModel",
          "model_module_version": "1.2.0",
          "state": {
            "_model_module": "@jupyter-widgets/base",
            "_model_module_version": "1.2.0",
            "_model_name": "LayoutModel",
            "_view_count": null,
            "_view_module": "@jupyter-widgets/base",
            "_view_module_version": "1.2.0",
            "_view_name": "LayoutView",
            "align_content": null,
            "align_items": null,
            "align_self": null,
            "border": null,
            "bottom": null,
            "display": null,
            "flex": null,
            "flex_flow": null,
            "grid_area": null,
            "grid_auto_columns": null,
            "grid_auto_flow": null,
            "grid_auto_rows": null,
            "grid_column": null,
            "grid_gap": null,
            "grid_row": null,
            "grid_template_areas": null,
            "grid_template_columns": null,
            "grid_template_rows": null,
            "height": null,
            "justify_content": null,
            "justify_items": null,
            "left": null,
            "margin": null,
            "max_height": null,
            "max_width": null,
            "min_height": null,
            "min_width": null,
            "object_fit": null,
            "object_position": null,
            "order": null,
            "overflow": null,
            "overflow_x": null,
            "overflow_y": null,
            "padding": null,
            "right": null,
            "top": null,
            "visibility": null,
            "width": null
          }
        },
        "781aabeb43bf4226be1a0116d9367d0d": {
          "model_module": "@jupyter-widgets/controls",
          "model_name": "DescriptionStyleModel",
          "model_module_version": "1.5.0",
          "state": {
            "_model_module": "@jupyter-widgets/controls",
            "_model_module_version": "1.5.0",
            "_model_name": "DescriptionStyleModel",
            "_view_count": null,
            "_view_module": "@jupyter-widgets/base",
            "_view_module_version": "1.2.0",
            "_view_name": "StyleView",
            "description_width": ""
          }
        },
        "ad107036c508488eb0b54c8cfcf18963": {
          "model_module": "@jupyter-widgets/base",
          "model_name": "LayoutModel",
          "model_module_version": "1.2.0",
          "state": {
            "_model_module": "@jupyter-widgets/base",
            "_model_module_version": "1.2.0",
            "_model_name": "LayoutModel",
            "_view_count": null,
            "_view_module": "@jupyter-widgets/base",
            "_view_module_version": "1.2.0",
            "_view_name": "LayoutView",
            "align_content": null,
            "align_items": null,
            "align_self": null,
            "border": null,
            "bottom": null,
            "display": null,
            "flex": null,
            "flex_flow": null,
            "grid_area": null,
            "grid_auto_columns": null,
            "grid_auto_flow": null,
            "grid_auto_rows": null,
            "grid_column": null,
            "grid_gap": null,
            "grid_row": null,
            "grid_template_areas": null,
            "grid_template_columns": null,
            "grid_template_rows": null,
            "height": null,
            "justify_content": null,
            "justify_items": null,
            "left": null,
            "margin": null,
            "max_height": null,
            "max_width": null,
            "min_height": null,
            "min_width": null,
            "object_fit": null,
            "object_position": null,
            "order": null,
            "overflow": null,
            "overflow_x": null,
            "overflow_y": null,
            "padding": null,
            "right": null,
            "top": null,
            "visibility": null,
            "width": null
          }
        },
        "9a151ddc379c4428b6fec337b77507ac": {
          "model_module": "@jupyter-widgets/controls",
          "model_name": "ProgressStyleModel",
          "model_module_version": "1.5.0",
          "state": {
            "_model_module": "@jupyter-widgets/controls",
            "_model_module_version": "1.5.0",
            "_model_name": "ProgressStyleModel",
            "_view_count": null,
            "_view_module": "@jupyter-widgets/base",
            "_view_module_version": "1.2.0",
            "_view_name": "StyleView",
            "bar_color": null,
            "description_width": ""
          }
        },
        "e548900fc4d34121b09f42c36295afd3": {
          "model_module": "@jupyter-widgets/base",
          "model_name": "LayoutModel",
          "model_module_version": "1.2.0",
          "state": {
            "_model_module": "@jupyter-widgets/base",
            "_model_module_version": "1.2.0",
            "_model_name": "LayoutModel",
            "_view_count": null,
            "_view_module": "@jupyter-widgets/base",
            "_view_module_version": "1.2.0",
            "_view_name": "LayoutView",
            "align_content": null,
            "align_items": null,
            "align_self": null,
            "border": null,
            "bottom": null,
            "display": null,
            "flex": null,
            "flex_flow": null,
            "grid_area": null,
            "grid_auto_columns": null,
            "grid_auto_flow": null,
            "grid_auto_rows": null,
            "grid_column": null,
            "grid_gap": null,
            "grid_row": null,
            "grid_template_areas": null,
            "grid_template_columns": null,
            "grid_template_rows": null,
            "height": null,
            "justify_content": null,
            "justify_items": null,
            "left": null,
            "margin": null,
            "max_height": null,
            "max_width": null,
            "min_height": null,
            "min_width": null,
            "object_fit": null,
            "object_position": null,
            "order": null,
            "overflow": null,
            "overflow_x": null,
            "overflow_y": null,
            "padding": null,
            "right": null,
            "top": null,
            "visibility": null,
            "width": null
          }
        },
        "899dded257bf41929e89a0c9aa4d6afa": {
          "model_module": "@jupyter-widgets/controls",
          "model_name": "DescriptionStyleModel",
          "model_module_version": "1.5.0",
          "state": {
            "_model_module": "@jupyter-widgets/controls",
            "_model_module_version": "1.5.0",
            "_model_name": "DescriptionStyleModel",
            "_view_count": null,
            "_view_module": "@jupyter-widgets/base",
            "_view_module_version": "1.2.0",
            "_view_name": "StyleView",
            "description_width": ""
          }
        }
      }
    }
  },
  "nbformat": 4,
  "nbformat_minor": 0
}